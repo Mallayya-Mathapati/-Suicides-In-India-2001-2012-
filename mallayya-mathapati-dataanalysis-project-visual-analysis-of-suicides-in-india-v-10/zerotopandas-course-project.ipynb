{
 "cells": [
  {
   "cell_type": "markdown",
   "metadata": {},
   "source": [
    "# DATA ANALYSIS PROJECT\n",
    "# \"Visual Analysis Of Suicides In India 2001-2012\""
   ]
  },
  {
   "cell_type": "markdown",
   "metadata": {},
   "source": [
    "#### DataSet link:- https://www.kaggle.com/rajanand/suicides-in-india\n",
    "In This Project We are Visual Analysis of <b font:blod> \"Suicides In India 2001-2012\"</b>\n",
    "Dataset having total rows are 237519 and total columns are 7.column  are State,Year,Type_code,Type,Gender,Age_group & Total."
   ]
  },
  {
   "cell_type": "markdown",
   "metadata": {},
   "source": [
    "## Importing libraries"
   ]
  },
  {
   "cell_type": "code",
   "execution_count": 1,
   "metadata": {},
   "outputs": [],
   "source": [
    "import numpy as np # linear algebra\n",
    "import pandas as pd # for data processing\n",
    "import matplotlib.pyplot as plt # data visualation & ploting graph\n",
    "import seaborn as sns # advance data visualation & ploting graph"
   ]
  },
  {
   "cell_type": "markdown",
   "metadata": {},
   "source": [
    "## loading the dataset"
   ]
  },
  {
   "cell_type": "code",
   "execution_count": 2,
   "metadata": {},
   "outputs": [],
   "source": [
    "suicides_df=pd.read_csv(\"Suicides in India 2001-2012.csv\")"
   ]
  },
  {
   "cell_type": "code",
   "execution_count": 3,
   "metadata": {},
   "outputs": [],
   "source": [
    "project_name = \"Mallayya_Mathapati_DataAnalysis_Project-visual-analysis-of-suicides-in-india\" "
   ]
  },
  {
   "cell_type": "code",
   "execution_count": 4,
   "metadata": {},
   "outputs": [
    {
     "name": "stderr",
     "output_type": "stream",
     "text": [
      "WARNING: You are using pip version 21.1.2; however, version 21.2.2 is available.\n",
      "You should consider upgrading via the 'c:\\users\\mallayya mathapah\\appdata\\local\\programs\\python\\python39\\python.exe -m pip install --upgrade pip' command.\n"
     ]
    }
   ],
   "source": [
    "!pip install jovian --upgrade -q"
   ]
  },
  {
   "cell_type": "code",
   "execution_count": 5,
   "metadata": {},
   "outputs": [],
   "source": [
    "import jovian"
   ]
  },
  {
   "cell_type": "code",
   "execution_count": 6,
   "metadata": {},
   "outputs": [
    {
     "data": {
      "application/javascript": [
       "window.require && require([\"base/js/namespace\"],function(Jupyter){Jupyter.notebook.save_checkpoint()})"
      ],
      "text/plain": [
       "<IPython.core.display.Javascript object>"
      ]
     },
     "metadata": {},
     "output_type": "display_data"
    },
    {
     "name": "stdout",
     "output_type": "stream",
     "text": [
      "[jovian] Please enter your API key ( from https://jovian.ai/ ):\n",
      "API KEY: ········\n",
      "[jovian] Creating a new project \"mallayya840/Mallayya_Mathapati_DataAnalysis_Project-visual-analysis-of-suicides-in-india\"\n",
      "[jovian] Committed successfully! https://jovian.ai/mallayya840/mallayya-mathapati-dataanalysis-project-visual-analysis-of-suicides-in-india\n"
     ]
    },
    {
     "data": {
      "text/plain": [
       "'https://jovian.ai/mallayya840/mallayya-mathapati-dataanalysis-project-visual-analysis-of-suicides-in-india'"
      ]
     },
     "execution_count": 6,
     "metadata": {},
     "output_type": "execute_result"
    }
   ],
   "source": [
    "jovian.commit(project=project_name)"
   ]
  },
  {
   "cell_type": "markdown",
   "metadata": {},
   "source": [
    "## Total rows & columns in suicides_df dataframe"
   ]
  },
  {
   "cell_type": "code",
   "execution_count": 7,
   "metadata": {},
   "outputs": [
    {
     "data": {
      "text/plain": [
       "(237519, 7)"
      ]
     },
     "execution_count": 7,
     "metadata": {},
     "output_type": "execute_result"
    }
   ],
   "source": [
    "suicides_df.shape"
   ]
  },
  {
   "cell_type": "markdown",
   "metadata": {},
   "source": [
    "From the above output , total rows are 237519 and total columns are 7"
   ]
  },
  {
   "cell_type": "markdown",
   "metadata": {},
   "source": [
    "## showing the data row vrs column "
   ]
  },
  {
   "cell_type": "code",
   "execution_count": 8,
   "metadata": {},
   "outputs": [
    {
     "data": {
      "text/html": [
       "<div>\n",
       "<style scoped>\n",
       "    .dataframe tbody tr th:only-of-type {\n",
       "        vertical-align: middle;\n",
       "    }\n",
       "\n",
       "    .dataframe tbody tr th {\n",
       "        vertical-align: top;\n",
       "    }\n",
       "\n",
       "    .dataframe thead th {\n",
       "        text-align: right;\n",
       "    }\n",
       "</style>\n",
       "<table border=\"1\" class=\"dataframe\">\n",
       "  <thead>\n",
       "    <tr style=\"text-align: right;\">\n",
       "      <th></th>\n",
       "      <th>State</th>\n",
       "      <th>Year</th>\n",
       "      <th>Type_code</th>\n",
       "      <th>Type</th>\n",
       "      <th>Gender</th>\n",
       "      <th>Age_group</th>\n",
       "      <th>Total</th>\n",
       "    </tr>\n",
       "  </thead>\n",
       "  <tbody>\n",
       "    <tr>\n",
       "      <th>0</th>\n",
       "      <td>A &amp; N Islands</td>\n",
       "      <td>2001</td>\n",
       "      <td>Causes</td>\n",
       "      <td>Illness (Aids/STD)</td>\n",
       "      <td>Female</td>\n",
       "      <td>0-14</td>\n",
       "      <td>0</td>\n",
       "    </tr>\n",
       "    <tr>\n",
       "      <th>1</th>\n",
       "      <td>A &amp; N Islands</td>\n",
       "      <td>2001</td>\n",
       "      <td>Causes</td>\n",
       "      <td>Bankruptcy or Sudden change in Economic</td>\n",
       "      <td>Female</td>\n",
       "      <td>0-14</td>\n",
       "      <td>0</td>\n",
       "    </tr>\n",
       "    <tr>\n",
       "      <th>2</th>\n",
       "      <td>A &amp; N Islands</td>\n",
       "      <td>2001</td>\n",
       "      <td>Causes</td>\n",
       "      <td>Cancellation/Non-Settlement of Marriage</td>\n",
       "      <td>Female</td>\n",
       "      <td>0-14</td>\n",
       "      <td>0</td>\n",
       "    </tr>\n",
       "    <tr>\n",
       "      <th>3</th>\n",
       "      <td>A &amp; N Islands</td>\n",
       "      <td>2001</td>\n",
       "      <td>Causes</td>\n",
       "      <td>Physical Abuse (Rape/Incest Etc.)</td>\n",
       "      <td>Female</td>\n",
       "      <td>0-14</td>\n",
       "      <td>0</td>\n",
       "    </tr>\n",
       "    <tr>\n",
       "      <th>4</th>\n",
       "      <td>A &amp; N Islands</td>\n",
       "      <td>2001</td>\n",
       "      <td>Causes</td>\n",
       "      <td>Dowry Dispute</td>\n",
       "      <td>Female</td>\n",
       "      <td>0-14</td>\n",
       "      <td>0</td>\n",
       "    </tr>\n",
       "    <tr>\n",
       "      <th>...</th>\n",
       "      <td>...</td>\n",
       "      <td>...</td>\n",
       "      <td>...</td>\n",
       "      <td>...</td>\n",
       "      <td>...</td>\n",
       "      <td>...</td>\n",
       "      <td>...</td>\n",
       "    </tr>\n",
       "    <tr>\n",
       "      <th>237514</th>\n",
       "      <td>West Bengal</td>\n",
       "      <td>2012</td>\n",
       "      <td>Social_Status</td>\n",
       "      <td>Seperated</td>\n",
       "      <td>Male</td>\n",
       "      <td>0-100+</td>\n",
       "      <td>149</td>\n",
       "    </tr>\n",
       "    <tr>\n",
       "      <th>237515</th>\n",
       "      <td>West Bengal</td>\n",
       "      <td>2012</td>\n",
       "      <td>Social_Status</td>\n",
       "      <td>Widowed/Widower</td>\n",
       "      <td>Male</td>\n",
       "      <td>0-100+</td>\n",
       "      <td>233</td>\n",
       "    </tr>\n",
       "    <tr>\n",
       "      <th>237516</th>\n",
       "      <td>West Bengal</td>\n",
       "      <td>2012</td>\n",
       "      <td>Social_Status</td>\n",
       "      <td>Married</td>\n",
       "      <td>Male</td>\n",
       "      <td>0-100+</td>\n",
       "      <td>5451</td>\n",
       "    </tr>\n",
       "    <tr>\n",
       "      <th>237517</th>\n",
       "      <td>West Bengal</td>\n",
       "      <td>2012</td>\n",
       "      <td>Social_Status</td>\n",
       "      <td>Divorcee</td>\n",
       "      <td>Male</td>\n",
       "      <td>0-100+</td>\n",
       "      <td>189</td>\n",
       "    </tr>\n",
       "    <tr>\n",
       "      <th>237518</th>\n",
       "      <td>West Bengal</td>\n",
       "      <td>2012</td>\n",
       "      <td>Social_Status</td>\n",
       "      <td>Never Married</td>\n",
       "      <td>Male</td>\n",
       "      <td>0-100+</td>\n",
       "      <td>2658</td>\n",
       "    </tr>\n",
       "  </tbody>\n",
       "</table>\n",
       "<p>237519 rows × 7 columns</p>\n",
       "</div>"
      ],
      "text/plain": [
       "                State  Year      Type_code  \\\n",
       "0       A & N Islands  2001         Causes   \n",
       "1       A & N Islands  2001         Causes   \n",
       "2       A & N Islands  2001         Causes   \n",
       "3       A & N Islands  2001         Causes   \n",
       "4       A & N Islands  2001         Causes   \n",
       "...               ...   ...            ...   \n",
       "237514    West Bengal  2012  Social_Status   \n",
       "237515    West Bengal  2012  Social_Status   \n",
       "237516    West Bengal  2012  Social_Status   \n",
       "237517    West Bengal  2012  Social_Status   \n",
       "237518    West Bengal  2012  Social_Status   \n",
       "\n",
       "                                           Type  Gender Age_group  Total  \n",
       "0                            Illness (Aids/STD)  Female      0-14      0  \n",
       "1       Bankruptcy or Sudden change in Economic  Female      0-14      0  \n",
       "2       Cancellation/Non-Settlement of Marriage  Female      0-14      0  \n",
       "3             Physical Abuse (Rape/Incest Etc.)  Female      0-14      0  \n",
       "4                                 Dowry Dispute  Female      0-14      0  \n",
       "...                                         ...     ...       ...    ...  \n",
       "237514                                Seperated    Male    0-100+    149  \n",
       "237515                          Widowed/Widower    Male    0-100+    233  \n",
       "237516                                  Married    Male    0-100+   5451  \n",
       "237517                                 Divorcee    Male    0-100+    189  \n",
       "237518                            Never Married    Male    0-100+   2658  \n",
       "\n",
       "[237519 rows x 7 columns]"
      ]
     },
     "execution_count": 8,
     "metadata": {},
     "output_type": "execute_result"
    }
   ],
   "source": [
    "suicides_df"
   ]
  },
  {
   "cell_type": "markdown",
   "metadata": {},
   "source": [
    "## Checking NULL values (missing data)"
   ]
  },
  {
   "cell_type": "code",
   "execution_count": 9,
   "metadata": {},
   "outputs": [
    {
     "data": {
      "text/plain": [
       "State        0\n",
       "Year         0\n",
       "Type_code    0\n",
       "Type         0\n",
       "Gender       0\n",
       "Age_group    0\n",
       "Total        0\n",
       "dtype: int64"
      ]
     },
     "execution_count": 9,
     "metadata": {},
     "output_type": "execute_result"
    }
   ],
   "source": [
    "suicides_df.isnull().sum()"
   ]
  },
  {
   "cell_type": "markdown",
   "metadata": {},
   "source": [
    "## Data types"
   ]
  },
  {
   "cell_type": "code",
   "execution_count": 10,
   "metadata": {},
   "outputs": [
    {
     "data": {
      "text/plain": [
       "State        object\n",
       "Year          int64\n",
       "Type_code    object\n",
       "Type         object\n",
       "Gender       object\n",
       "Age_group    object\n",
       "Total         int64\n",
       "dtype: object"
      ]
     },
     "execution_count": 10,
     "metadata": {},
     "output_type": "execute_result"
    }
   ],
   "source": [
    "suicides_df.dtypes"
   ]
  },
  {
   "cell_type": "markdown",
   "metadata": {},
   "source": [
    "## Describing suicide dataframe"
   ]
  },
  {
   "cell_type": "code",
   "execution_count": 11,
   "metadata": {},
   "outputs": [
    {
     "data": {
      "text/html": [
       "<div>\n",
       "<style scoped>\n",
       "    .dataframe tbody tr th:only-of-type {\n",
       "        vertical-align: middle;\n",
       "    }\n",
       "\n",
       "    .dataframe tbody tr th {\n",
       "        vertical-align: top;\n",
       "    }\n",
       "\n",
       "    .dataframe thead th {\n",
       "        text-align: right;\n",
       "    }\n",
       "</style>\n",
       "<table border=\"1\" class=\"dataframe\">\n",
       "  <thead>\n",
       "    <tr style=\"text-align: right;\">\n",
       "      <th></th>\n",
       "      <th>Year</th>\n",
       "      <th>Total</th>\n",
       "    </tr>\n",
       "  </thead>\n",
       "  <tbody>\n",
       "    <tr>\n",
       "      <th>count</th>\n",
       "      <td>237519.000000</td>\n",
       "      <td>237519.000000</td>\n",
       "    </tr>\n",
       "    <tr>\n",
       "      <th>mean</th>\n",
       "      <td>2006.500448</td>\n",
       "      <td>55.034477</td>\n",
       "    </tr>\n",
       "    <tr>\n",
       "      <th>std</th>\n",
       "      <td>3.452240</td>\n",
       "      <td>792.749038</td>\n",
       "    </tr>\n",
       "    <tr>\n",
       "      <th>min</th>\n",
       "      <td>2001.000000</td>\n",
       "      <td>0.000000</td>\n",
       "    </tr>\n",
       "    <tr>\n",
       "      <th>25%</th>\n",
       "      <td>2004.000000</td>\n",
       "      <td>0.000000</td>\n",
       "    </tr>\n",
       "    <tr>\n",
       "      <th>50%</th>\n",
       "      <td>2007.000000</td>\n",
       "      <td>0.000000</td>\n",
       "    </tr>\n",
       "    <tr>\n",
       "      <th>75%</th>\n",
       "      <td>2010.000000</td>\n",
       "      <td>6.000000</td>\n",
       "    </tr>\n",
       "    <tr>\n",
       "      <th>max</th>\n",
       "      <td>2012.000000</td>\n",
       "      <td>63343.000000</td>\n",
       "    </tr>\n",
       "  </tbody>\n",
       "</table>\n",
       "</div>"
      ],
      "text/plain": [
       "                Year          Total\n",
       "count  237519.000000  237519.000000\n",
       "mean     2006.500448      55.034477\n",
       "std         3.452240     792.749038\n",
       "min      2001.000000       0.000000\n",
       "25%      2004.000000       0.000000\n",
       "50%      2007.000000       0.000000\n",
       "75%      2010.000000       6.000000\n",
       "max      2012.000000   63343.000000"
      ]
     },
     "execution_count": 11,
     "metadata": {},
     "output_type": "execute_result"
    }
   ],
   "source": [
    "suicides_df.describe()"
   ]
  },
  {
   "cell_type": "markdown",
   "metadata": {},
   "source": [
    "## state name & total present in data"
   ]
  },
  {
   "cell_type": "code",
   "execution_count": 12,
   "metadata": {},
   "outputs": [
    {
     "data": {
      "text/plain": [
       "array(['A & N Islands', 'Andhra Pradesh', 'Arunachal Pradesh', 'Assam',\n",
       "       'Bihar', 'Chandigarh', 'Chhattisgarh', 'D & N Haveli',\n",
       "       'Daman & Diu', 'Delhi (Ut)', 'Goa', 'Gujarat', 'Haryana',\n",
       "       'Himachal Pradesh', 'Jammu & Kashmir', 'Jharkhand', 'Karnataka',\n",
       "       'Kerala', 'Lakshadweep', 'Madhya Pradesh', 'Maharashtra',\n",
       "       'Manipur', 'Meghalaya', 'Mizoram', 'Nagaland', 'Odisha',\n",
       "       'Puducherry', 'Punjab', 'Rajasthan', 'Sikkim', 'Tamil Nadu',\n",
       "       'Total (All India)', 'Total (States)', 'Total (Uts)', 'Tripura',\n",
       "       'Uttar Pradesh', 'Uttarakhand', 'West Bengal'], dtype=object)"
      ]
     },
     "execution_count": 12,
     "metadata": {},
     "output_type": "execute_result"
    }
   ],
   "source": [
    "suicides_df[\"State\"].unique()"
   ]
  },
  {
   "cell_type": "code",
   "execution_count": 13,
   "metadata": {},
   "outputs": [
    {
     "name": "stdout",
     "output_type": "stream",
     "text": [
      "Total states present in India are :28\n"
     ]
    }
   ],
   "source": [
    "tl_state=suicides_df[\"State\"].unique()\n",
    "total_state=len(tl_state)-10 # here we excluided 7 union territory & 3 value becase this data are not state.\n",
    "print(\"Total states present in India are :\"+str(total_state))"
   ]
  },
  {
   "cell_type": "code",
   "execution_count": 14,
   "metadata": {},
   "outputs": [],
   "source": [
    "import jovian"
   ]
  },
  {
   "cell_type": "code",
   "execution_count": 15,
   "metadata": {},
   "outputs": [
    {
     "data": {
      "application/javascript": [
       "window.require && require([\"base/js/namespace\"],function(Jupyter){Jupyter.notebook.save_checkpoint()})"
      ],
      "text/plain": [
       "<IPython.core.display.Javascript object>"
      ]
     },
     "metadata": {},
     "output_type": "display_data"
    },
    {
     "name": "stdout",
     "output_type": "stream",
     "text": [
      "[jovian] Updating notebook \"mallayya840/mallayya-mathapati-dataanalysis-project-visual-analysis-of-suicides-in-india\" on https://jovian.ai/\n",
      "[jovian] Committed successfully! https://jovian.ai/mallayya840/mallayya-mathapati-dataanalysis-project-visual-analysis-of-suicides-in-india\n"
     ]
    },
    {
     "data": {
      "text/plain": [
       "'https://jovian.ai/mallayya840/mallayya-mathapati-dataanalysis-project-visual-analysis-of-suicides-in-india'"
      ]
     },
     "execution_count": 15,
     "metadata": {},
     "output_type": "execute_result"
    }
   ],
   "source": [
    "jovian.commit()"
   ]
  },
  {
   "cell_type": "markdown",
   "metadata": {},
   "source": [
    "## Exploratory Analysis and Visualization"
   ]
  },
  {
   "cell_type": "markdown",
   "metadata": {},
   "source": [
    "### Total suicides (deaths) state wise"
   ]
  },
  {
   "cell_type": "markdown",
   "metadata": {},
   "source": [
    "Let's begin by importing`matplotlib.pyplot` and `seaborn`."
   ]
  },
  {
   "cell_type": "code",
   "execution_count": 16,
   "metadata": {},
   "outputs": [],
   "source": [
    "import seaborn as sns\n",
    "import matplotlib\n",
    "import matplotlib.pyplot as plt\n",
    "%matplotlib inline\n",
    "\n",
    "sns.set_style('darkgrid')\n",
    "matplotlib.rcParams['font.size'] = 12\n",
    "matplotlib.rcParams['figure.figsize'] = (9, 5)\n",
    "matplotlib.rcParams['figure.facecolor'] = '#00000000'"
   ]
  },
  {
   "cell_type": "code",
   "execution_count": 17,
   "metadata": {},
   "outputs": [],
   "source": [
    "total_deaths_by_states=suicides_df.groupby(\"State\")[\"Total\"].sum()\n",
    "total_suicides_by_states= pd.DataFrame(total_deaths_by_states).reset_index().sort_values('Total',ascending=False)\n",
    "total_suicides_by_states = total_suicides_by_states[2:] # excluding 3 value i.e Total (All India),Total (States),Total (Uts)"
   ]
  },
  {
   "cell_type": "code",
   "execution_count": 19,
   "metadata": {},
   "outputs": [
    {
     "data": {
      "text/html": [
       "<div>\n",
       "<style scoped>\n",
       "    .dataframe tbody tr th:only-of-type {\n",
       "        vertical-align: middle;\n",
       "    }\n",
       "\n",
       "    .dataframe tbody tr th {\n",
       "        vertical-align: top;\n",
       "    }\n",
       "\n",
       "    .dataframe thead th {\n",
       "        text-align: right;\n",
       "    }\n",
       "</style>\n",
       "<table border=\"1\" class=\"dataframe\">\n",
       "  <thead>\n",
       "    <tr style=\"text-align: right;\">\n",
       "      <th></th>\n",
       "      <th>State</th>\n",
       "      <th>Total</th>\n",
       "    </tr>\n",
       "  </thead>\n",
       "  <tbody>\n",
       "    <tr>\n",
       "      <th>20</th>\n",
       "      <td>Maharashtra</td>\n",
       "      <td>901945</td>\n",
       "    </tr>\n",
       "    <tr>\n",
       "      <th>37</th>\n",
       "      <td>West Bengal</td>\n",
       "      <td>849936</td>\n",
       "    </tr>\n",
       "    <tr>\n",
       "      <th>30</th>\n",
       "      <td>Tamil Nadu</td>\n",
       "      <td>818691</td>\n",
       "    </tr>\n",
       "    <tr>\n",
       "      <th>1</th>\n",
       "      <td>Andhra Pradesh</td>\n",
       "      <td>814059</td>\n",
       "    </tr>\n",
       "    <tr>\n",
       "      <th>16</th>\n",
       "      <td>Karnataka</td>\n",
       "      <td>734825</td>\n",
       "    </tr>\n",
       "    <tr>\n",
       "      <th>17</th>\n",
       "      <td>Kerala</td>\n",
       "      <td>538946</td>\n",
       "    </tr>\n",
       "    <tr>\n",
       "      <th>19</th>\n",
       "      <td>Madhya Pradesh</td>\n",
       "      <td>451535</td>\n",
       "    </tr>\n",
       "    <tr>\n",
       "      <th>11</th>\n",
       "      <td>Gujarat</td>\n",
       "      <td>330858</td>\n",
       "    </tr>\n",
       "    <tr>\n",
       "      <th>6</th>\n",
       "      <td>Chhattisgarh</td>\n",
       "      <td>302354</td>\n",
       "    </tr>\n",
       "    <tr>\n",
       "      <th>25</th>\n",
       "      <td>Odisha</td>\n",
       "      <td>267234</td>\n",
       "    </tr>\n",
       "    <tr>\n",
       "      <th>28</th>\n",
       "      <td>Rajasthan</td>\n",
       "      <td>255134</td>\n",
       "    </tr>\n",
       "    <tr>\n",
       "      <th>35</th>\n",
       "      <td>Uttar Pradesh</td>\n",
       "      <td>233352</td>\n",
       "    </tr>\n",
       "    <tr>\n",
       "      <th>3</th>\n",
       "      <td>Assam</td>\n",
       "      <td>172276</td>\n",
       "    </tr>\n",
       "    <tr>\n",
       "      <th>12</th>\n",
       "      <td>Haryana</td>\n",
       "      <td>147176</td>\n",
       "    </tr>\n",
       "    <tr>\n",
       "      <th>9</th>\n",
       "      <td>Delhi (Ut)</td>\n",
       "      <td>84272</td>\n",
       "    </tr>\n",
       "    <tr>\n",
       "      <th>33</th>\n",
       "      <td>Total (Uts)</td>\n",
       "      <td>53836</td>\n",
       "    </tr>\n",
       "    <tr>\n",
       "      <th>15</th>\n",
       "      <td>Jharkhand</td>\n",
       "      <td>49720</td>\n",
       "    </tr>\n",
       "    <tr>\n",
       "      <th>27</th>\n",
       "      <td>Punjab</td>\n",
       "      <td>46350</td>\n",
       "    </tr>\n",
       "    <tr>\n",
       "      <th>4</th>\n",
       "      <td>Bihar</td>\n",
       "      <td>46214</td>\n",
       "    </tr>\n",
       "    <tr>\n",
       "      <th>34</th>\n",
       "      <td>Tripura</td>\n",
       "      <td>45965</td>\n",
       "    </tr>\n",
       "    <tr>\n",
       "      <th>26</th>\n",
       "      <td>Puducherry</td>\n",
       "      <td>32144</td>\n",
       "    </tr>\n",
       "    <tr>\n",
       "      <th>13</th>\n",
       "      <td>Himachal Pradesh</td>\n",
       "      <td>26562</td>\n",
       "    </tr>\n",
       "    <tr>\n",
       "      <th>36</th>\n",
       "      <td>Uttarakhand</td>\n",
       "      <td>18496</td>\n",
       "    </tr>\n",
       "    <tr>\n",
       "      <th>10</th>\n",
       "      <td>Goa</td>\n",
       "      <td>17363</td>\n",
       "    </tr>\n",
       "    <tr>\n",
       "      <th>14</th>\n",
       "      <td>Jammu &amp; Kashmir</td>\n",
       "      <td>14821</td>\n",
       "    </tr>\n",
       "    <tr>\n",
       "      <th>29</th>\n",
       "      <td>Sikkim</td>\n",
       "      <td>9606</td>\n",
       "    </tr>\n",
       "    <tr>\n",
       "      <th>0</th>\n",
       "      <td>A &amp; N Islands</td>\n",
       "      <td>8109</td>\n",
       "    </tr>\n",
       "    <tr>\n",
       "      <th>2</th>\n",
       "      <td>Arunachal Pradesh</td>\n",
       "      <td>6633</td>\n",
       "    </tr>\n",
       "    <tr>\n",
       "      <th>22</th>\n",
       "      <td>Meghalaya</td>\n",
       "      <td>5415</td>\n",
       "    </tr>\n",
       "    <tr>\n",
       "      <th>5</th>\n",
       "      <td>Chandigarh</td>\n",
       "      <td>5164</td>\n",
       "    </tr>\n",
       "    <tr>\n",
       "      <th>23</th>\n",
       "      <td>Mizoram</td>\n",
       "      <td>4154</td>\n",
       "    </tr>\n",
       "    <tr>\n",
       "      <th>7</th>\n",
       "      <td>D &amp; N Haveli</td>\n",
       "      <td>3430</td>\n",
       "    </tr>\n",
       "    <tr>\n",
       "      <th>21</th>\n",
       "      <td>Manipur</td>\n",
       "      <td>2102</td>\n",
       "    </tr>\n",
       "    <tr>\n",
       "      <th>24</th>\n",
       "      <td>Nagaland</td>\n",
       "      <td>1728</td>\n",
       "    </tr>\n",
       "    <tr>\n",
       "      <th>8</th>\n",
       "      <td>Daman &amp; Diu</td>\n",
       "      <td>1391</td>\n",
       "    </tr>\n",
       "    <tr>\n",
       "      <th>18</th>\n",
       "      <td>Lakshadweep</td>\n",
       "      <td>50</td>\n",
       "    </tr>\n",
       "  </tbody>\n",
       "</table>\n",
       "</div>"
      ],
      "text/plain": [
       "                State   Total\n",
       "20        Maharashtra  901945\n",
       "37        West Bengal  849936\n",
       "30         Tamil Nadu  818691\n",
       "1      Andhra Pradesh  814059\n",
       "16          Karnataka  734825\n",
       "17             Kerala  538946\n",
       "19     Madhya Pradesh  451535\n",
       "11            Gujarat  330858\n",
       "6        Chhattisgarh  302354\n",
       "25             Odisha  267234\n",
       "28          Rajasthan  255134\n",
       "35      Uttar Pradesh  233352\n",
       "3               Assam  172276\n",
       "12            Haryana  147176\n",
       "9          Delhi (Ut)   84272\n",
       "33        Total (Uts)   53836\n",
       "15          Jharkhand   49720\n",
       "27             Punjab   46350\n",
       "4               Bihar   46214\n",
       "34            Tripura   45965\n",
       "26         Puducherry   32144\n",
       "13   Himachal Pradesh   26562\n",
       "36        Uttarakhand   18496\n",
       "10                Goa   17363\n",
       "14    Jammu & Kashmir   14821\n",
       "29             Sikkim    9606\n",
       "0       A & N Islands    8109\n",
       "2   Arunachal Pradesh    6633\n",
       "22          Meghalaya    5415\n",
       "5          Chandigarh    5164\n",
       "23            Mizoram    4154\n",
       "7        D & N Haveli    3430\n",
       "21            Manipur    2102\n",
       "24           Nagaland    1728\n",
       "8         Daman & Diu    1391\n",
       "18        Lakshadweep      50"
      ]
     },
     "execution_count": 19,
     "metadata": {},
     "output_type": "execute_result"
    }
   ],
   "source": [
    "total_suicides_by_states.to_csv('output/total_suicides_by_state.csv')\n",
    "total_suicides_by_states"
   ]
  },
  {
   "cell_type": "markdown",
   "metadata": {},
   "source": [
    "### Ploting Graph of total_suicides_by_states"
   ]
  },
  {
   "cell_type": "code",
   "execution_count": 20,
   "metadata": {},
   "outputs": [
    {
     "data": {
      "image/png": "[encoded data removed]",
      "text/plain": [
       "<Figure size 1296x576 with 1 Axes>"
      ]
     },
     "metadata": {
      "needs_background": "light"
     },
     "output_type": "display_data"
    }
   ],
   "source": [
    "fig , ax = plt.subplots(figsize=(18,8))\n",
    "plt.title(\"Total suicides occured at state wise in the year 2001-2012\")\n",
    "bar_grp=sns.barplot(x='State',y='Total',data=total_suicides_by_states)\n",
    "bar_grp.set_xticklabels(bar_grp.get_xticklabels(),rotation=90); \n",
    "#rotation used becase all xticklabels will merge we can't read the xticklabels values, thats why we use this ."
   ]
  },
  {
   "cell_type": "markdown",
   "metadata": {},
   "source": [
    "### From the above Bar Graph \n",
    "####    Highest Suicides \n",
    " >  Maharashtra--901945\n",
    "#### Lowest Suicides in \n",
    " > Lakshadweep--50"
   ]
  },
  {
   "cell_type": "markdown",
   "metadata": {},
   "source": [
    "### total suicides occured in year 2001-2012"
   ]
  },
  {
   "cell_type": "code",
   "execution_count": 21,
   "metadata": {},
   "outputs": [
    {
     "data": {
      "text/html": [
       "<div>\n",
       "<style scoped>\n",
       "    .dataframe tbody tr th:only-of-type {\n",
       "        vertical-align: middle;\n",
       "    }\n",
       "\n",
       "    .dataframe tbody tr th {\n",
       "        vertical-align: top;\n",
       "    }\n",
       "\n",
       "    .dataframe thead th {\n",
       "        text-align: right;\n",
       "    }\n",
       "</style>\n",
       "<table border=\"1\" class=\"dataframe\">\n",
       "  <thead>\n",
       "    <tr style=\"text-align: right;\">\n",
       "      <th></th>\n",
       "      <th>Year</th>\n",
       "      <th>Total</th>\n",
       "    </tr>\n",
       "  </thead>\n",
       "  <tbody>\n",
       "    <tr>\n",
       "      <th>10</th>\n",
       "      <td>2011</td>\n",
       "      <td>271170</td>\n",
       "    </tr>\n",
       "    <tr>\n",
       "      <th>11</th>\n",
       "      <td>2012</td>\n",
       "      <td>270890</td>\n",
       "    </tr>\n",
       "    <tr>\n",
       "      <th>9</th>\n",
       "      <td>2010</td>\n",
       "      <td>269198</td>\n",
       "    </tr>\n",
       "    <tr>\n",
       "      <th>8</th>\n",
       "      <td>2009</td>\n",
       "      <td>254302</td>\n",
       "    </tr>\n",
       "    <tr>\n",
       "      <th>7</th>\n",
       "      <td>2008</td>\n",
       "      <td>250034</td>\n",
       "    </tr>\n",
       "    <tr>\n",
       "      <th>6</th>\n",
       "      <td>2007</td>\n",
       "      <td>245274</td>\n",
       "    </tr>\n",
       "    <tr>\n",
       "      <th>5</th>\n",
       "      <td>2006</td>\n",
       "      <td>236224</td>\n",
       "    </tr>\n",
       "    <tr>\n",
       "      <th>4</th>\n",
       "      <td>2005</td>\n",
       "      <td>227828</td>\n",
       "    </tr>\n",
       "    <tr>\n",
       "      <th>3</th>\n",
       "      <td>2004</td>\n",
       "      <td>227394</td>\n",
       "    </tr>\n",
       "    <tr>\n",
       "      <th>2</th>\n",
       "      <td>2003</td>\n",
       "      <td>221702</td>\n",
       "    </tr>\n",
       "    <tr>\n",
       "      <th>1</th>\n",
       "      <td>2002</td>\n",
       "      <td>220834</td>\n",
       "    </tr>\n",
       "    <tr>\n",
       "      <th>0</th>\n",
       "      <td>2001</td>\n",
       "      <td>217012</td>\n",
       "    </tr>\n",
       "  </tbody>\n",
       "</table>\n",
       "</div>"
      ],
      "text/plain": [
       "    Year   Total\n",
       "10  2011  271170\n",
       "11  2012  270890\n",
       "9   2010  269198\n",
       "8   2009  254302\n",
       "7   2008  250034\n",
       "6   2007  245274\n",
       "5   2006  236224\n",
       "4   2005  227828\n",
       "3   2004  227394\n",
       "2   2003  221702\n",
       "1   2002  220834\n",
       "0   2001  217012"
      ]
     },
     "execution_count": 21,
     "metadata": {},
     "output_type": "execute_result"
    }
   ],
   "source": [
    "suicides_occured_year=suicides_df.loc[suicides_df['State']=='Total (All India)']\n",
    "suicides_occured_year_wise=suicides_occured_year.groupby([\"Year\"])[\"Total\"].sum()\n",
    "total_suicides_occured_year_wise= pd.DataFrame(suicides_occured_year_wise).reset_index().sort_values('Total',ascending=False)\n",
    "total_suicides_occured_year_wise.to_csv('output/total_suicides_occured_year_wise.csv')\n",
    "total_suicides_occured_year_wise"
   ]
  },
  {
   "cell_type": "code",
   "execution_count": 22,
   "metadata": {},
   "outputs": [
    {
     "data": {
      "image/png": "[encoded data removed]",
      "text/plain": [
       "<Figure size 648x360 with 1 Axes>"
      ]
     },
     "metadata": {
      "needs_background": "light"
     },
     "output_type": "display_data"
    }
   ],
   "source": [
    "plt.title(\"Total suicides occured year wise in the year 2001-2012\")\n",
    "plt.xlabel(\"year\")\n",
    "plt.ylabel(\"Total suicides\")\n",
    "plt.scatter(total_suicides_occured_year_wise.Year,total_suicides_occured_year_wise.Total,c='red',s=20);"
   ]
  },
  {
   "cell_type": "markdown",
   "metadata": {},
   "source": [
    "From the above graph we can say that <b font : bold> 2011 have highest suicides occured</b> and <b font : bold> 2001 have lowest suicides occured</b> in the year 2001-2012 ,in india suicide rate positively incresing"
   ]
  },
  {
   "cell_type": "markdown",
   "metadata": {},
   "source": [
    "### male & female counts suicides in year 2001-2012 "
   ]
  },
  {
   "cell_type": "code",
   "execution_count": 23,
   "metadata": {},
   "outputs": [
    {
     "name": "stdout",
     "output_type": "stream",
     "text": [
      "Female    118640\n",
      "Male      118879\n",
      "Name: Gender, dtype: int64\n"
     ]
    },
    {
     "data": {
      "image/png": "[encoded data removed]",
      "text/plain": [
       "<Figure size 720x576 with 1 Axes>"
      ]
     },
     "metadata": {},
     "output_type": "display_data"
    }
   ],
   "source": [
    "counts = suicides_df['Gender'].value_counts().sort_index()\n",
    "print(counts) # printing male & female counts in suicides\n",
    "counts.plot(kind='pie', title='Gender Count',figsize=(10,8)) # Plot a pie chart\n",
    "plt.title(\"male & female counts suicides in year 2001-2012 \")\n",
    "plt.legend()\n",
    "plt.show()"
   ]
  },
  {
   "cell_type": "markdown",
   "metadata": {},
   "source": [
    "From above pichart 50% of male & female suicide percentage from this equall number of suicides occured in between year 2001-2012"
   ]
  },
  {
   "cell_type": "markdown",
   "metadata": {},
   "source": [
    "### Suicide Age Group"
   ]
  },
  {
   "cell_type": "code",
   "execution_count": 24,
   "metadata": {},
   "outputs": [
    {
     "data": {
      "text/html": [
       "<div>\n",
       "<style scoped>\n",
       "    .dataframe tbody tr th:only-of-type {\n",
       "        vertical-align: middle;\n",
       "    }\n",
       "\n",
       "    .dataframe tbody tr th {\n",
       "        vertical-align: top;\n",
       "    }\n",
       "\n",
       "    .dataframe thead th {\n",
       "        text-align: right;\n",
       "    }\n",
       "</style>\n",
       "<table border=\"1\" class=\"dataframe\">\n",
       "  <thead>\n",
       "    <tr style=\"text-align: right;\">\n",
       "      <th></th>\n",
       "      <th>Age_group</th>\n",
       "      <th>Total</th>\n",
       "    </tr>\n",
       "  </thead>\n",
       "  <tbody>\n",
       "    <tr>\n",
       "      <th>1</th>\n",
       "      <td>0-14</td>\n",
       "      <td>98410</td>\n",
       "    </tr>\n",
       "    <tr>\n",
       "      <th>2</th>\n",
       "      <td>15-29</td>\n",
       "      <td>1534037</td>\n",
       "    </tr>\n",
       "    <tr>\n",
       "      <th>3</th>\n",
       "      <td>30-44</td>\n",
       "      <td>1471599</td>\n",
       "    </tr>\n",
       "    <tr>\n",
       "      <th>4</th>\n",
       "      <td>45-59</td>\n",
       "      <td>885177</td>\n",
       "    </tr>\n",
       "    <tr>\n",
       "      <th>5</th>\n",
       "      <td>60+</td>\n",
       "      <td>346925</td>\n",
       "    </tr>\n",
       "  </tbody>\n",
       "</table>\n",
       "</div>"
      ],
      "text/plain": [
       "  Age_group    Total\n",
       "1      0-14    98410\n",
       "2     15-29  1534037\n",
       "3     30-44  1471599\n",
       "4     45-59   885177\n",
       "5       60+   346925"
      ]
     },
     "execution_count": 24,
     "metadata": {},
     "output_type": "execute_result"
    }
   ],
   "source": [
    "suicide_age_grp = suicides_df.groupby('Age_group')['Total'].sum()\n",
    "total_suicide_age_grp = pd.DataFrame(suicide_age_grp).reset_index()\n",
    "total_suicide_age_grp  = total_suicide_age_grp [1:] # 0th index we have age arange 0 -100+ year sold so we excluided\n",
    "total_suicide_age_grp.to_csv('output/total_suicide_age_grp.csv')\n",
    "total_suicide_age_grp"
   ]
  },
  {
   "cell_type": "code",
   "execution_count": 25,
   "metadata": {},
   "outputs": [
    {
     "data": {
      "image/png": "[encoded data removed]",
      "text/plain": [
       "<Figure size 648x360 with 1 Axes>"
      ]
     },
     "metadata": {
      "needs_background": "light"
     },
     "output_type": "display_data"
    }
   ],
   "source": [
    "plt.title(\"Suicides Age group\")\n",
    "sns.barplot(x='Age_group',y='Total',data=total_suicide_age_grp);"
   ]
  },
  {
   "cell_type": "markdown",
   "metadata": {},
   "source": [
    "From the above Bar graph we can say that 15-44 age group people had more suicides than other age groups,in this range we have youth & adult stage so here we guess that family problems,work pressure,affairs,unemployment..etc reasons for the suicides..."
   ]
  },
  {
   "cell_type": "markdown",
   "metadata": {},
   "source": [
    "###  suicides as per age group in males and females"
   ]
  },
  {
   "cell_type": "code",
   "execution_count": 26,
   "metadata": {},
   "outputs": [
    {
     "data": {
      "text/html": [
       "<div>\n",
       "<style scoped>\n",
       "    .dataframe tbody tr th:only-of-type {\n",
       "        vertical-align: middle;\n",
       "    }\n",
       "\n",
       "    .dataframe tbody tr th {\n",
       "        vertical-align: top;\n",
       "    }\n",
       "\n",
       "    .dataframe thead th {\n",
       "        text-align: right;\n",
       "    }\n",
       "</style>\n",
       "<table border=\"1\" class=\"dataframe\">\n",
       "  <thead>\n",
       "    <tr style=\"text-align: right;\">\n",
       "      <th></th>\n",
       "      <th>Age_group</th>\n",
       "      <th>Gender</th>\n",
       "      <th>Year</th>\n",
       "      <th>Total</th>\n",
       "    </tr>\n",
       "  </thead>\n",
       "  <tbody>\n",
       "    <tr>\n",
       "      <th>1</th>\n",
       "      <td>0-100+</td>\n",
       "      <td>Male</td>\n",
       "      <td>11894532</td>\n",
       "      <td>5591508</td>\n",
       "    </tr>\n",
       "    <tr>\n",
       "      <th>0</th>\n",
       "      <td>0-100+</td>\n",
       "      <td>Female</td>\n",
       "      <td>11894532</td>\n",
       "      <td>3144078</td>\n",
       "    </tr>\n",
       "    <tr>\n",
       "      <th>7</th>\n",
       "      <td>30-44</td>\n",
       "      <td>Male</td>\n",
       "      <td>45403090</td>\n",
       "      <td>994138</td>\n",
       "    </tr>\n",
       "    <tr>\n",
       "      <th>5</th>\n",
       "      <td>15-29</td>\n",
       "      <td>Male</td>\n",
       "      <td>45399104</td>\n",
       "      <td>832822</td>\n",
       "    </tr>\n",
       "    <tr>\n",
       "      <th>4</th>\n",
       "      <td>15-29</td>\n",
       "      <td>Female</td>\n",
       "      <td>45340914</td>\n",
       "      <td>701215</td>\n",
       "    </tr>\n",
       "    <tr>\n",
       "      <th>9</th>\n",
       "      <td>45-59</td>\n",
       "      <td>Male</td>\n",
       "      <td>45370964</td>\n",
       "      <td>652635</td>\n",
       "    </tr>\n",
       "    <tr>\n",
       "      <th>6</th>\n",
       "      <td>30-44</td>\n",
       "      <td>Female</td>\n",
       "      <td>45276652</td>\n",
       "      <td>477461</td>\n",
       "    </tr>\n",
       "    <tr>\n",
       "      <th>11</th>\n",
       "      <td>60+</td>\n",
       "      <td>Male</td>\n",
       "      <td>45288705</td>\n",
       "      <td>248683</td>\n",
       "    </tr>\n",
       "    <tr>\n",
       "      <th>8</th>\n",
       "      <td>45-59</td>\n",
       "      <td>Female</td>\n",
       "      <td>45214492</td>\n",
       "      <td>232542</td>\n",
       "    </tr>\n",
       "    <tr>\n",
       "      <th>10</th>\n",
       "      <td>60+</td>\n",
       "      <td>Female</td>\n",
       "      <td>45152291</td>\n",
       "      <td>98242</td>\n",
       "    </tr>\n",
       "    <tr>\n",
       "      <th>2</th>\n",
       "      <td>0-14</td>\n",
       "      <td>Female</td>\n",
       "      <td>45172341</td>\n",
       "      <td>49436</td>\n",
       "    </tr>\n",
       "    <tr>\n",
       "      <th>3</th>\n",
       "      <td>0-14</td>\n",
       "      <td>Male</td>\n",
       "      <td>45174363</td>\n",
       "      <td>48974</td>\n",
       "    </tr>\n",
       "  </tbody>\n",
       "</table>\n",
       "</div>"
      ],
      "text/plain": [
       "   Age_group  Gender      Year    Total\n",
       "1     0-100+    Male  11894532  5591508\n",
       "0     0-100+  Female  11894532  3144078\n",
       "7      30-44    Male  45403090   994138\n",
       "5      15-29    Male  45399104   832822\n",
       "4      15-29  Female  45340914   701215\n",
       "9      45-59    Male  45370964   652635\n",
       "6      30-44  Female  45276652   477461\n",
       "11       60+    Male  45288705   248683\n",
       "8      45-59  Female  45214492   232542\n",
       "10       60+  Female  45152291    98242\n",
       "2       0-14  Female  45172341    49436\n",
       "3       0-14    Male  45174363    48974"
      ]
     },
     "execution_count": 26,
     "metadata": {},
     "output_type": "execute_result"
    }
   ],
   "source": [
    "suicides_age_grp_by_male_and_female=suicides_df.groupby(['Age_group','Gender'],as_index=False).sum().sort_values('Total',ascending=False)\n",
    "suicides_age_grp_by_male_and_female.to_csv('output/suicides_age_grp_by_male_and_female.csv')\n",
    "suicides_age_grp_by_male_and_female"
   ]
  },
  {
   "cell_type": "code",
   "execution_count": 27,
   "metadata": {},
   "outputs": [
    {
     "data": {
      "image/png": "[encoded data removed]",
      "text/plain": [
       "<Figure size 648x360 with 1 Axes>"
      ]
     },
     "metadata": {
      "needs_background": "light"
     },
     "output_type": "display_data"
    }
   ],
   "source": [
    "plt.title(\"suicides as per age group in males and females in the year 2001-2012\");\n",
    "sns.barplot(x='Age_group',y='Total',hue='Gender',data=suicides_age_grp_by_male_and_female,palette='RdPu');"
   ]
  },
  {
   "cell_type": "markdown",
   "metadata": {},
   "source": [
    "From the above Bar Graph we noticed that suicide ratio for male has two times the female suicides.from this men work for the well being of the family and they had workhard but at last suicide,is the main reason..."
   ]
  },
  {
   "cell_type": "markdown",
   "metadata": {},
   "source": [
    "### Suicide by Education Status"
   ]
  },
  {
   "cell_type": "code",
   "execution_count": 28,
   "metadata": {},
   "outputs": [],
   "source": [
    "suicide_by_education=suicides_df[suicides_df['Type_code'] == 'Education_Status']"
   ]
  },
  {
   "cell_type": "code",
   "execution_count": 29,
   "metadata": {},
   "outputs": [],
   "source": [
    "total_suicide_by_education=suicide_by_education.groupby('Type').sum()['Total']\n",
    "total_suicide_by_education=pd.DataFrame(total_suicide_by_education).reset_index().sort_values('Total',ascending=False)"
   ]
  },
  {
   "cell_type": "code",
   "execution_count": 30,
   "metadata": {},
   "outputs": [
    {
     "data": {
      "text/html": [
       "<div>\n",
       "<style scoped>\n",
       "    .dataframe tbody tr th:only-of-type {\n",
       "        vertical-align: middle;\n",
       "    }\n",
       "\n",
       "    .dataframe tbody tr th {\n",
       "        vertical-align: top;\n",
       "    }\n",
       "\n",
       "    .dataframe thead th {\n",
       "        text-align: right;\n",
       "    }\n",
       "</style>\n",
       "<table border=\"1\" class=\"dataframe\">\n",
       "  <thead>\n",
       "    <tr style=\"text-align: right;\">\n",
       "      <th></th>\n",
       "      <th>Type</th>\n",
       "      <th>Total</th>\n",
       "    </tr>\n",
       "  </thead>\n",
       "  <tbody>\n",
       "    <tr>\n",
       "      <th>7</th>\n",
       "      <td>Primary</td>\n",
       "      <td>1088481</td>\n",
       "    </tr>\n",
       "    <tr>\n",
       "      <th>4</th>\n",
       "      <td>Middle</td>\n",
       "      <td>1028913</td>\n",
       "    </tr>\n",
       "    <tr>\n",
       "      <th>5</th>\n",
       "      <td>No Education</td>\n",
       "      <td>965271</td>\n",
       "    </tr>\n",
       "    <tr>\n",
       "      <th>3</th>\n",
       "      <td>Matriculate/Secondary</td>\n",
       "      <td>769698</td>\n",
       "    </tr>\n",
       "    <tr>\n",
       "      <th>2</th>\n",
       "      <td>Hr. Secondary/Intermediate/Pre-Universit</td>\n",
       "      <td>356724</td>\n",
       "    </tr>\n",
       "    <tr>\n",
       "      <th>1</th>\n",
       "      <td>Graduate</td>\n",
       "      <td>93822</td>\n",
       "    </tr>\n",
       "    <tr>\n",
       "      <th>0</th>\n",
       "      <td>Diploma</td>\n",
       "      <td>42459</td>\n",
       "    </tr>\n",
       "    <tr>\n",
       "      <th>6</th>\n",
       "      <td>Post Graduate and Above</td>\n",
       "      <td>22425</td>\n",
       "    </tr>\n",
       "  </tbody>\n",
       "</table>\n",
       "</div>"
      ],
      "text/plain": [
       "                                       Type    Total\n",
       "7                                   Primary  1088481\n",
       "4                                    Middle  1028913\n",
       "5                              No Education   965271\n",
       "3                     Matriculate/Secondary   769698\n",
       "2  Hr. Secondary/Intermediate/Pre-Universit   356724\n",
       "1                                  Graduate    93822\n",
       "0                                   Diploma    42459\n",
       "6                   Post Graduate and Above    22425"
      ]
     },
     "execution_count": 30,
     "metadata": {},
     "output_type": "execute_result"
    }
   ],
   "source": [
    "total_suicide_by_education.to_csv('output/total_suicide_by_education.csv')\n",
    "total_suicide_by_education"
   ]
  },
  {
   "cell_type": "code",
   "execution_count": 31,
   "metadata": {},
   "outputs": [
    {
     "data": {
      "image/png": "[encoded data removed]",
      "text/plain": [
       "<Figure size 648x360 with 1 Axes>"
      ]
     },
     "metadata": {
      "needs_background": "light"
     },
     "output_type": "display_data"
    }
   ],
   "source": [
    "plt.title(\"total suicides by education in the year 2001-2012\");\n",
    "ed_grp=sns.barplot(x='Type',y='Total',data=total_suicide_by_education,palette='RdPu');\n",
    "ed_grp.set_xticklabels(ed_grp.get_xticklabels(),rotation=90);"
   ]
  },
  {
   "cell_type": "markdown",
   "metadata": {},
   "source": [
    "From the graph <b font : blod>\"suicides by education\"</b> we noticed that Primary education has more suicides due lack of knowldeg and they don't know how to dele with it & major thing in higher education 10th,+2 ,Degree exams fear..etc and after complting degree unempolyment major reasons."
   ]
  },
  {
   "cell_type": "code",
   "execution_count": 32,
   "metadata": {},
   "outputs": [],
   "source": [
    "import jovian"
   ]
  },
  {
   "cell_type": "code",
   "execution_count": 33,
   "metadata": {},
   "outputs": [
    {
     "data": {
      "application/javascript": [
       "window.require && require([\"base/js/namespace\"],function(Jupyter){Jupyter.notebook.save_checkpoint()})"
      ],
      "text/plain": [
       "<IPython.core.display.Javascript object>"
      ]
     },
     "metadata": {},
     "output_type": "display_data"
    },
    {
     "name": "stdout",
     "output_type": "stream",
     "text": [
      "[jovian] Updating notebook \"mallayya840/mallayya-mathapati-dataanalysis-project-visual-analysis-of-suicides-in-india\" on https://jovian.ai/\n",
      "[jovian] Committed successfully! https://jovian.ai/mallayya840/mallayya-mathapati-dataanalysis-project-visual-analysis-of-suicides-in-india\n"
     ]
    },
    {
     "data": {
      "text/plain": [
       "'https://jovian.ai/mallayya840/mallayya-mathapati-dataanalysis-project-visual-analysis-of-suicides-in-india'"
      ]
     },
     "execution_count": 33,
     "metadata": {},
     "output_type": "execute_result"
    }
   ],
   "source": [
    "jovian.commit()"
   ]
  },
  {
   "cell_type": "markdown",
   "metadata": {},
   "source": [
    "## Asking and Answering Questions\n",
    "\n",
    "Here we analysing the graphs and asking some question and answering with help of visualation...\n",
    "\n"
   ]
  },
  {
   "cell_type": "markdown",
   "metadata": {},
   "source": [
    "### Q1: Show top 5 & bottom 5 total suicides by states.?"
   ]
  },
  {
   "cell_type": "code",
   "execution_count": 34,
   "metadata": {},
   "outputs": [
    {
     "data": {
      "text/html": [
       "<div>\n",
       "<style scoped>\n",
       "    .dataframe tbody tr th:only-of-type {\n",
       "        vertical-align: middle;\n",
       "    }\n",
       "\n",
       "    .dataframe tbody tr th {\n",
       "        vertical-align: top;\n",
       "    }\n",
       "\n",
       "    .dataframe thead th {\n",
       "        text-align: right;\n",
       "    }\n",
       "</style>\n",
       "<table border=\"1\" class=\"dataframe\">\n",
       "  <thead>\n",
       "    <tr style=\"text-align: right;\">\n",
       "      <th></th>\n",
       "      <th>State</th>\n",
       "      <th>Total</th>\n",
       "    </tr>\n",
       "  </thead>\n",
       "  <tbody>\n",
       "    <tr>\n",
       "      <th>20</th>\n",
       "      <td>Maharashtra</td>\n",
       "      <td>901945</td>\n",
       "    </tr>\n",
       "    <tr>\n",
       "      <th>37</th>\n",
       "      <td>West Bengal</td>\n",
       "      <td>849936</td>\n",
       "    </tr>\n",
       "    <tr>\n",
       "      <th>30</th>\n",
       "      <td>Tamil Nadu</td>\n",
       "      <td>818691</td>\n",
       "    </tr>\n",
       "    <tr>\n",
       "      <th>1</th>\n",
       "      <td>Andhra Pradesh</td>\n",
       "      <td>814059</td>\n",
       "    </tr>\n",
       "    <tr>\n",
       "      <th>16</th>\n",
       "      <td>Karnataka</td>\n",
       "      <td>734825</td>\n",
       "    </tr>\n",
       "    <tr>\n",
       "      <th>17</th>\n",
       "      <td>Kerala</td>\n",
       "      <td>538946</td>\n",
       "    </tr>\n",
       "    <tr>\n",
       "      <th>19</th>\n",
       "      <td>Madhya Pradesh</td>\n",
       "      <td>451535</td>\n",
       "    </tr>\n",
       "    <tr>\n",
       "      <th>11</th>\n",
       "      <td>Gujarat</td>\n",
       "      <td>330858</td>\n",
       "    </tr>\n",
       "    <tr>\n",
       "      <th>6</th>\n",
       "      <td>Chhattisgarh</td>\n",
       "      <td>302354</td>\n",
       "    </tr>\n",
       "    <tr>\n",
       "      <th>25</th>\n",
       "      <td>Odisha</td>\n",
       "      <td>267234</td>\n",
       "    </tr>\n",
       "    <tr>\n",
       "      <th>28</th>\n",
       "      <td>Rajasthan</td>\n",
       "      <td>255134</td>\n",
       "    </tr>\n",
       "    <tr>\n",
       "      <th>35</th>\n",
       "      <td>Uttar Pradesh</td>\n",
       "      <td>233352</td>\n",
       "    </tr>\n",
       "    <tr>\n",
       "      <th>3</th>\n",
       "      <td>Assam</td>\n",
       "      <td>172276</td>\n",
       "    </tr>\n",
       "    <tr>\n",
       "      <th>12</th>\n",
       "      <td>Haryana</td>\n",
       "      <td>147176</td>\n",
       "    </tr>\n",
       "    <tr>\n",
       "      <th>9</th>\n",
       "      <td>Delhi (Ut)</td>\n",
       "      <td>84272</td>\n",
       "    </tr>\n",
       "    <tr>\n",
       "      <th>33</th>\n",
       "      <td>Total (Uts)</td>\n",
       "      <td>53836</td>\n",
       "    </tr>\n",
       "    <tr>\n",
       "      <th>15</th>\n",
       "      <td>Jharkhand</td>\n",
       "      <td>49720</td>\n",
       "    </tr>\n",
       "    <tr>\n",
       "      <th>27</th>\n",
       "      <td>Punjab</td>\n",
       "      <td>46350</td>\n",
       "    </tr>\n",
       "    <tr>\n",
       "      <th>4</th>\n",
       "      <td>Bihar</td>\n",
       "      <td>46214</td>\n",
       "    </tr>\n",
       "    <tr>\n",
       "      <th>34</th>\n",
       "      <td>Tripura</td>\n",
       "      <td>45965</td>\n",
       "    </tr>\n",
       "    <tr>\n",
       "      <th>26</th>\n",
       "      <td>Puducherry</td>\n",
       "      <td>32144</td>\n",
       "    </tr>\n",
       "    <tr>\n",
       "      <th>13</th>\n",
       "      <td>Himachal Pradesh</td>\n",
       "      <td>26562</td>\n",
       "    </tr>\n",
       "    <tr>\n",
       "      <th>36</th>\n",
       "      <td>Uttarakhand</td>\n",
       "      <td>18496</td>\n",
       "    </tr>\n",
       "    <tr>\n",
       "      <th>10</th>\n",
       "      <td>Goa</td>\n",
       "      <td>17363</td>\n",
       "    </tr>\n",
       "    <tr>\n",
       "      <th>14</th>\n",
       "      <td>Jammu &amp; Kashmir</td>\n",
       "      <td>14821</td>\n",
       "    </tr>\n",
       "    <tr>\n",
       "      <th>29</th>\n",
       "      <td>Sikkim</td>\n",
       "      <td>9606</td>\n",
       "    </tr>\n",
       "    <tr>\n",
       "      <th>0</th>\n",
       "      <td>A &amp; N Islands</td>\n",
       "      <td>8109</td>\n",
       "    </tr>\n",
       "    <tr>\n",
       "      <th>2</th>\n",
       "      <td>Arunachal Pradesh</td>\n",
       "      <td>6633</td>\n",
       "    </tr>\n",
       "    <tr>\n",
       "      <th>22</th>\n",
       "      <td>Meghalaya</td>\n",
       "      <td>5415</td>\n",
       "    </tr>\n",
       "    <tr>\n",
       "      <th>5</th>\n",
       "      <td>Chandigarh</td>\n",
       "      <td>5164</td>\n",
       "    </tr>\n",
       "    <tr>\n",
       "      <th>23</th>\n",
       "      <td>Mizoram</td>\n",
       "      <td>4154</td>\n",
       "    </tr>\n",
       "    <tr>\n",
       "      <th>7</th>\n",
       "      <td>D &amp; N Haveli</td>\n",
       "      <td>3430</td>\n",
       "    </tr>\n",
       "    <tr>\n",
       "      <th>21</th>\n",
       "      <td>Manipur</td>\n",
       "      <td>2102</td>\n",
       "    </tr>\n",
       "    <tr>\n",
       "      <th>24</th>\n",
       "      <td>Nagaland</td>\n",
       "      <td>1728</td>\n",
       "    </tr>\n",
       "    <tr>\n",
       "      <th>8</th>\n",
       "      <td>Daman &amp; Diu</td>\n",
       "      <td>1391</td>\n",
       "    </tr>\n",
       "    <tr>\n",
       "      <th>18</th>\n",
       "      <td>Lakshadweep</td>\n",
       "      <td>50</td>\n",
       "    </tr>\n",
       "  </tbody>\n",
       "</table>\n",
       "</div>"
      ],
      "text/plain": [
       "                State   Total\n",
       "20        Maharashtra  901945\n",
       "37        West Bengal  849936\n",
       "30         Tamil Nadu  818691\n",
       "1      Andhra Pradesh  814059\n",
       "16          Karnataka  734825\n",
       "17             Kerala  538946\n",
       "19     Madhya Pradesh  451535\n",
       "11            Gujarat  330858\n",
       "6        Chhattisgarh  302354\n",
       "25             Odisha  267234\n",
       "28          Rajasthan  255134\n",
       "35      Uttar Pradesh  233352\n",
       "3               Assam  172276\n",
       "12            Haryana  147176\n",
       "9          Delhi (Ut)   84272\n",
       "33        Total (Uts)   53836\n",
       "15          Jharkhand   49720\n",
       "27             Punjab   46350\n",
       "4               Bihar   46214\n",
       "34            Tripura   45965\n",
       "26         Puducherry   32144\n",
       "13   Himachal Pradesh   26562\n",
       "36        Uttarakhand   18496\n",
       "10                Goa   17363\n",
       "14    Jammu & Kashmir   14821\n",
       "29             Sikkim    9606\n",
       "0       A & N Islands    8109\n",
       "2   Arunachal Pradesh    6633\n",
       "22          Meghalaya    5415\n",
       "5          Chandigarh    5164\n",
       "23            Mizoram    4154\n",
       "7        D & N Haveli    3430\n",
       "21            Manipur    2102\n",
       "24           Nagaland    1728\n",
       "8         Daman & Diu    1391\n",
       "18        Lakshadweep      50"
      ]
     },
     "execution_count": 34,
     "metadata": {},
     "output_type": "execute_result"
    }
   ],
   "source": [
    "total_suicides_by_states"
   ]
  },
  {
   "cell_type": "markdown",
   "metadata": {},
   "source": [
    "### From the above Table\n",
    "####    Highest Suicides in Top 5 state are\n",
    " 1.  Maharashtra--901945\n",
    " 2.\tWest Bengal--849936\n",
    " 3.\tTamil Nadu--818691\n",
    " 4.\tAndhra Pradesh--814059\n",
    " 5.\tKarnataka--734825\n",
    "#### Lowest Suicides in Bottom 5 state are\n",
    " 1. Lakshadweep--50\n",
    " 2.\tDaman & Diu--1391\n",
    " 3.\tNagaland--1728\n",
    " 4.\tManipur--2102\n",
    " 5.\tD & N Haveli--3430\n"
   ]
  },
  {
   "cell_type": "markdown",
   "metadata": {},
   "source": [
    "### Q2: Which year highest suicides occured & also mention lowest suicides occured in that year.?\n",
    "\n",
    "#### total suicides occured in year 2001-2012"
   ]
  },
  {
   "cell_type": "code",
   "execution_count": 35,
   "metadata": {},
   "outputs": [
    {
     "data": {
      "text/html": [
       "<div>\n",
       "<style scoped>\n",
       "    .dataframe tbody tr th:only-of-type {\n",
       "        vertical-align: middle;\n",
       "    }\n",
       "\n",
       "    .dataframe tbody tr th {\n",
       "        vertical-align: top;\n",
       "    }\n",
       "\n",
       "    .dataframe thead th {\n",
       "        text-align: right;\n",
       "    }\n",
       "</style>\n",
       "<table border=\"1\" class=\"dataframe\">\n",
       "  <thead>\n",
       "    <tr style=\"text-align: right;\">\n",
       "      <th></th>\n",
       "      <th>Year</th>\n",
       "      <th>Total</th>\n",
       "    </tr>\n",
       "  </thead>\n",
       "  <tbody>\n",
       "    <tr>\n",
       "      <th>10</th>\n",
       "      <td>2011</td>\n",
       "      <td>271170</td>\n",
       "    </tr>\n",
       "    <tr>\n",
       "      <th>11</th>\n",
       "      <td>2012</td>\n",
       "      <td>270890</td>\n",
       "    </tr>\n",
       "    <tr>\n",
       "      <th>9</th>\n",
       "      <td>2010</td>\n",
       "      <td>269198</td>\n",
       "    </tr>\n",
       "    <tr>\n",
       "      <th>8</th>\n",
       "      <td>2009</td>\n",
       "      <td>254302</td>\n",
       "    </tr>\n",
       "    <tr>\n",
       "      <th>7</th>\n",
       "      <td>2008</td>\n",
       "      <td>250034</td>\n",
       "    </tr>\n",
       "    <tr>\n",
       "      <th>6</th>\n",
       "      <td>2007</td>\n",
       "      <td>245274</td>\n",
       "    </tr>\n",
       "    <tr>\n",
       "      <th>5</th>\n",
       "      <td>2006</td>\n",
       "      <td>236224</td>\n",
       "    </tr>\n",
       "    <tr>\n",
       "      <th>4</th>\n",
       "      <td>2005</td>\n",
       "      <td>227828</td>\n",
       "    </tr>\n",
       "    <tr>\n",
       "      <th>3</th>\n",
       "      <td>2004</td>\n",
       "      <td>227394</td>\n",
       "    </tr>\n",
       "    <tr>\n",
       "      <th>2</th>\n",
       "      <td>2003</td>\n",
       "      <td>221702</td>\n",
       "    </tr>\n",
       "    <tr>\n",
       "      <th>1</th>\n",
       "      <td>2002</td>\n",
       "      <td>220834</td>\n",
       "    </tr>\n",
       "    <tr>\n",
       "      <th>0</th>\n",
       "      <td>2001</td>\n",
       "      <td>217012</td>\n",
       "    </tr>\n",
       "  </tbody>\n",
       "</table>\n",
       "</div>"
      ],
      "text/plain": [
       "    Year   Total\n",
       "10  2011  271170\n",
       "11  2012  270890\n",
       "9   2010  269198\n",
       "8   2009  254302\n",
       "7   2008  250034\n",
       "6   2007  245274\n",
       "5   2006  236224\n",
       "4   2005  227828\n",
       "3   2004  227394\n",
       "2   2003  221702\n",
       "1   2002  220834\n",
       "0   2001  217012"
      ]
     },
     "execution_count": 35,
     "metadata": {},
     "output_type": "execute_result"
    }
   ],
   "source": [
    "total_suicides_occured_year_wise"
   ]
  },
  {
   "cell_type": "code",
   "execution_count": 36,
   "metadata": {},
   "outputs": [
    {
     "data": {
      "image/png": "[encoded data removed]",
      "text/plain": [
       "<Figure size 648x360 with 1 Axes>"
      ]
     },
     "metadata": {
      "needs_background": "light"
     },
     "output_type": "display_data"
    }
   ],
   "source": [
    "plt.title(\"Total suicides occured year wise in the year 2001-2012\")\n",
    "plt.xlabel(\"year\")\n",
    "plt.ylabel(\"Total suicides\")\n",
    "plt.scatter(total_suicides_occured_year_wise.Year,total_suicides_occured_year_wise.Total,c='red',s=20);"
   ]
  },
  {
   "cell_type": "markdown",
   "metadata": {},
   "source": [
    "From the above graph we can say that <b font : bold> 2011 have highest suicides occured</b> and <b font : bold> 2001 have lowest suicides occured</b> in the year 2001-2012 ,in india suicide rate positively incresing"
   ]
  },
  {
   "cell_type": "markdown",
   "metadata": {},
   "source": [
    "### Q3: What was the Education Status of total people  commiting suicides with respect Gender.?"
   ]
  },
  {
   "cell_type": "code",
   "execution_count": 37,
   "metadata": {},
   "outputs": [],
   "source": [
    "education_status_suicide=suicides_df[suicides_df['Type_code'] == 'Education_Status'].groupby([\"Type\",\"Gender\"])[\"Total\"].sum().reset_index()"
   ]
  },
  {
   "cell_type": "code",
   "execution_count": 38,
   "metadata": {},
   "outputs": [
    {
     "data": {
      "text/html": [
       "<div>\n",
       "<style scoped>\n",
       "    .dataframe tbody tr th:only-of-type {\n",
       "        vertical-align: middle;\n",
       "    }\n",
       "\n",
       "    .dataframe tbody tr th {\n",
       "        vertical-align: top;\n",
       "    }\n",
       "\n",
       "    .dataframe thead th {\n",
       "        text-align: right;\n",
       "    }\n",
       "</style>\n",
       "<table border=\"1\" class=\"dataframe\">\n",
       "  <thead>\n",
       "    <tr style=\"text-align: right;\">\n",
       "      <th></th>\n",
       "      <th>Type</th>\n",
       "      <th>Gender</th>\n",
       "      <th>Total</th>\n",
       "    </tr>\n",
       "  </thead>\n",
       "  <tbody>\n",
       "    <tr>\n",
       "      <th>0</th>\n",
       "      <td>Diploma</td>\n",
       "      <td>Female</td>\n",
       "      <td>11202</td>\n",
       "    </tr>\n",
       "    <tr>\n",
       "      <th>1</th>\n",
       "      <td>Diploma</td>\n",
       "      <td>Male</td>\n",
       "      <td>31257</td>\n",
       "    </tr>\n",
       "    <tr>\n",
       "      <th>2</th>\n",
       "      <td>Graduate</td>\n",
       "      <td>Female</td>\n",
       "      <td>29052</td>\n",
       "    </tr>\n",
       "    <tr>\n",
       "      <th>3</th>\n",
       "      <td>Graduate</td>\n",
       "      <td>Male</td>\n",
       "      <td>64770</td>\n",
       "    </tr>\n",
       "    <tr>\n",
       "      <th>4</th>\n",
       "      <td>Hr. Secondary/Intermediate/Pre-Universit</td>\n",
       "      <td>Female</td>\n",
       "      <td>118218</td>\n",
       "    </tr>\n",
       "    <tr>\n",
       "      <th>5</th>\n",
       "      <td>Hr. Secondary/Intermediate/Pre-Universit</td>\n",
       "      <td>Male</td>\n",
       "      <td>238506</td>\n",
       "    </tr>\n",
       "    <tr>\n",
       "      <th>6</th>\n",
       "      <td>Matriculate/Secondary</td>\n",
       "      <td>Female</td>\n",
       "      <td>245820</td>\n",
       "    </tr>\n",
       "    <tr>\n",
       "      <th>7</th>\n",
       "      <td>Matriculate/Secondary</td>\n",
       "      <td>Male</td>\n",
       "      <td>523878</td>\n",
       "    </tr>\n",
       "    <tr>\n",
       "      <th>8</th>\n",
       "      <td>Middle</td>\n",
       "      <td>Female</td>\n",
       "      <td>353289</td>\n",
       "    </tr>\n",
       "    <tr>\n",
       "      <th>9</th>\n",
       "      <td>Middle</td>\n",
       "      <td>Male</td>\n",
       "      <td>675624</td>\n",
       "    </tr>\n",
       "    <tr>\n",
       "      <th>10</th>\n",
       "      <td>No Education</td>\n",
       "      <td>Female</td>\n",
       "      <td>398826</td>\n",
       "    </tr>\n",
       "    <tr>\n",
       "      <th>11</th>\n",
       "      <td>No Education</td>\n",
       "      <td>Male</td>\n",
       "      <td>566445</td>\n",
       "    </tr>\n",
       "    <tr>\n",
       "      <th>12</th>\n",
       "      <td>Post Graduate and Above</td>\n",
       "      <td>Female</td>\n",
       "      <td>6612</td>\n",
       "    </tr>\n",
       "    <tr>\n",
       "      <th>13</th>\n",
       "      <td>Post Graduate and Above</td>\n",
       "      <td>Male</td>\n",
       "      <td>15813</td>\n",
       "    </tr>\n",
       "    <tr>\n",
       "      <th>14</th>\n",
       "      <td>Primary</td>\n",
       "      <td>Female</td>\n",
       "      <td>409020</td>\n",
       "    </tr>\n",
       "    <tr>\n",
       "      <th>15</th>\n",
       "      <td>Primary</td>\n",
       "      <td>Male</td>\n",
       "      <td>679461</td>\n",
       "    </tr>\n",
       "  </tbody>\n",
       "</table>\n",
       "</div>"
      ],
      "text/plain": [
       "                                        Type  Gender   Total\n",
       "0                                    Diploma  Female   11202\n",
       "1                                    Diploma    Male   31257\n",
       "2                                   Graduate  Female   29052\n",
       "3                                   Graduate    Male   64770\n",
       "4   Hr. Secondary/Intermediate/Pre-Universit  Female  118218\n",
       "5   Hr. Secondary/Intermediate/Pre-Universit    Male  238506\n",
       "6                      Matriculate/Secondary  Female  245820\n",
       "7                      Matriculate/Secondary    Male  523878\n",
       "8                                     Middle  Female  353289\n",
       "9                                     Middle    Male  675624\n",
       "10                              No Education  Female  398826\n",
       "11                              No Education    Male  566445\n",
       "12                   Post Graduate and Above  Female    6612\n",
       "13                   Post Graduate and Above    Male   15813\n",
       "14                                   Primary  Female  409020\n",
       "15                                   Primary    Male  679461"
      ]
     },
     "execution_count": 38,
     "metadata": {},
     "output_type": "execute_result"
    }
   ],
   "source": [
    "education_status_suicide.to_csv('output/education_status_suicide')\n",
    "education_status_suicide"
   ]
  },
  {
   "cell_type": "code",
   "execution_count": 39,
   "metadata": {},
   "outputs": [
    {
     "data": {
      "image/png": "[encoded data removed]",
      "text/plain": [
       "<Figure size 648x360 with 1 Axes>"
      ]
     },
     "metadata": {
      "needs_background": "light"
     },
     "output_type": "display_data"
    }
   ],
   "source": [
    "plt.title(\"education status suicide\")\n",
    "edu_st_grp = sns.barplot(x=\"Type\", y=\"Total\",hue=\"Gender\",  data=education_status_suicide);\n",
    "edu_st_grp.set_xticklabels(edu_st_grp.get_xticklabels(),rotation=90);"
   ]
  },
  {
   "cell_type": "markdown",
   "metadata": {},
   "source": [
    "- Education status\n",
    "* Diploma\n",
    "* Graduate\n",
    "* Hr. Secondary/Intermediate/Pre-Universit\n",
    "* Matriculate/Secondary\n",
    "* Middle\n",
    "* No Education\n",
    "* Post Graduate and Above\n",
    "* Primary"
   ]
  },
  {
   "cell_type": "markdown",
   "metadata": {},
   "source": [
    "### Q4: What is the Social Issue Causing Suicides with respecto gender?"
   ]
  },
  {
   "cell_type": "code",
   "execution_count": 40,
   "metadata": {},
   "outputs": [
    {
     "data": {
      "text/html": [
       "<div>\n",
       "<style scoped>\n",
       "    .dataframe tbody tr th:only-of-type {\n",
       "        vertical-align: middle;\n",
       "    }\n",
       "\n",
       "    .dataframe tbody tr th {\n",
       "        vertical-align: top;\n",
       "    }\n",
       "\n",
       "    .dataframe thead th {\n",
       "        text-align: right;\n",
       "    }\n",
       "</style>\n",
       "<table border=\"1\" class=\"dataframe\">\n",
       "  <thead>\n",
       "    <tr style=\"text-align: right;\">\n",
       "      <th></th>\n",
       "      <th>Type</th>\n",
       "      <th>Gender</th>\n",
       "      <th>Total</th>\n",
       "    </tr>\n",
       "  </thead>\n",
       "  <tbody>\n",
       "    <tr>\n",
       "      <th>0</th>\n",
       "      <td>Divorcee</td>\n",
       "      <td>Female</td>\n",
       "      <td>23076</td>\n",
       "    </tr>\n",
       "    <tr>\n",
       "      <th>1</th>\n",
       "      <td>Divorcee</td>\n",
       "      <td>Male</td>\n",
       "      <td>22740</td>\n",
       "    </tr>\n",
       "    <tr>\n",
       "      <th>2</th>\n",
       "      <td>Married</td>\n",
       "      <td>Female</td>\n",
       "      <td>1070301</td>\n",
       "    </tr>\n",
       "    <tr>\n",
       "      <th>3</th>\n",
       "      <td>Married</td>\n",
       "      <td>Male</td>\n",
       "      <td>1995021</td>\n",
       "    </tr>\n",
       "    <tr>\n",
       "      <th>4</th>\n",
       "      <td>Never Married</td>\n",
       "      <td>Female</td>\n",
       "      <td>346380</td>\n",
       "    </tr>\n",
       "    <tr>\n",
       "      <th>5</th>\n",
       "      <td>Never Married</td>\n",
       "      <td>Male</td>\n",
       "      <td>608523</td>\n",
       "    </tr>\n",
       "    <tr>\n",
       "      <th>6</th>\n",
       "      <td>Seperated</td>\n",
       "      <td>Female</td>\n",
       "      <td>42495</td>\n",
       "    </tr>\n",
       "    <tr>\n",
       "      <th>7</th>\n",
       "      <td>Seperated</td>\n",
       "      <td>Male</td>\n",
       "      <td>72918</td>\n",
       "    </tr>\n",
       "    <tr>\n",
       "      <th>8</th>\n",
       "      <td>Widowed/Widower</td>\n",
       "      <td>Female</td>\n",
       "      <td>89787</td>\n",
       "    </tr>\n",
       "    <tr>\n",
       "      <th>9</th>\n",
       "      <td>Widowed/Widower</td>\n",
       "      <td>Male</td>\n",
       "      <td>96552</td>\n",
       "    </tr>\n",
       "  </tbody>\n",
       "</table>\n",
       "</div>"
      ],
      "text/plain": [
       "              Type  Gender    Total\n",
       "0         Divorcee  Female    23076\n",
       "1         Divorcee    Male    22740\n",
       "2          Married  Female  1070301\n",
       "3          Married    Male  1995021\n",
       "4    Never Married  Female   346380\n",
       "5    Never Married    Male   608523\n",
       "6        Seperated  Female    42495\n",
       "7        Seperated    Male    72918\n",
       "8  Widowed/Widower  Female    89787\n",
       "9  Widowed/Widower    Male    96552"
      ]
     },
     "execution_count": 40,
     "metadata": {},
     "output_type": "execute_result"
    }
   ],
   "source": [
    "suicide_cause_social_status = pd.DataFrame(suicides_df[suicides_df[\"Type_code\"]==\"Social_Status\"].groupby([\"Type\",\"Gender\"])[\"Total\"].sum()).reset_index()\n",
    "suicide_cause_social_status.to_csv('output/suicide_cause_social_status')\n",
    "suicide_cause_social_status"
   ]
  },
  {
   "cell_type": "code",
   "execution_count": 41,
   "metadata": {},
   "outputs": [
    {
     "data": {
      "image/png": "[encoded data removed]",
      "text/plain": [
       "<Figure size 648x360 with 1 Axes>"
      ]
     },
     "metadata": {
      "needs_background": "light"
     },
     "output_type": "display_data"
    }
   ],
   "source": [
    "plt.title(\"suicide causes in social status in a Male & Female \")\n",
    "sns.barplot(x=\"Type\", y=\"Total\",hue=\"Gender\" ,data=suicide_cause_social_status);"
   ]
  },
  {
   "cell_type": "markdown",
   "metadata": {},
   "source": [
    "From the above Bar Graph we notice,that Married Male suicide due Family background ,workpressure,Extenal Affairs..etc For Married Female also applicable..."
   ]
  },
  {
   "cell_type": "markdown",
   "metadata": {},
   "source": [
    "### Q5: What are cause for suicides in Youth ?"
   ]
  },
  {
   "cell_type": "code",
   "execution_count": 42,
   "metadata": {},
   "outputs": [],
   "source": [
    "education_suicide_youth=suicides_df[suicides_df['Age_group'] == '15-29'].groupby([\"Type\",\"Age_group\"])[\"Total\"].sum().reset_index()"
   ]
  },
  {
   "cell_type": "code",
   "execution_count": 43,
   "metadata": {},
   "outputs": [
    {
     "data": {
      "text/plain": [
       "array(['Illness (Aids/STD)', 'Bankruptcy or Sudden change in Economic',\n",
       "       'Cancellation/Non-Settlement of Marriage',\n",
       "       'Physical Abuse (Rape/Incest Etc.)', 'Dowry Dispute',\n",
       "       'Family Problems', 'Ideological Causes/Hero Worshipping',\n",
       "       'Other Prolonged Illness', 'Property Dispute',\n",
       "       'Fall in Social Reputation', 'Illegitimate Pregnancy',\n",
       "       'Failure in Examination', 'Insanity/Mental Illness',\n",
       "       'Love Affairs', 'Professional/Career Problem', 'Divorce',\n",
       "       'Drug Abuse/Addiction', 'Not having Children(Barrenness/Impotency',\n",
       "       'Causes Not known', 'Unemployment',\n",
       "       'Other Causes (Please Specity)', 'Poverty', 'Death of Dear Person',\n",
       "       'Cancer', 'Suspected/Illicit Relation', 'Paralysis', 'Diploma',\n",
       "       'No Education', 'Post Graduate and Above', 'Middle', 'Graduate',\n",
       "       'Hr. Secondary/Intermediate/Pre-Universit', 'Primary',\n",
       "       'Matriculate/Secondary', 'By Consuming Insecticides', 'By Hanging',\n",
       "       'By Jumping from (Other sites)', 'By touching electric wires',\n",
       "       'By Machine', 'By Fire/Self Immolation',\n",
       "       'By Jumping off Moving Vehicles/Trains',\n",
       "       'By Other means (please specify)', 'By Self Infliction of injury',\n",
       "       'By Over Alcoholism', 'By Consuming Other Poison',\n",
       "       'By coming under running vehicles/trains',\n",
       "       'By Overdose of sleeping pills', 'By Jumping from (Building)',\n",
       "       'By Drowning', 'By Fire-Arms', 'Retired Person', 'Unemployed',\n",
       "       'Public Sector Undertaking', 'Service (Private)', 'House Wife',\n",
       "       'Self-employed (Business activity)', 'Professional Activity',\n",
       "       'Student', 'Others (Please Specify)',\n",
       "       'Farming/Agriculture Activity', 'Service (Government)', 'Married',\n",
       "       'Seperated', 'Widowed/Widower', 'Divorcee', 'Never Married',\n",
       "       'Bankruptcy or Sudden change in Economic Status',\n",
       "       'Not having Children (Barrenness/Impotency', 'By Other means'],\n",
       "      dtype=object)"
      ]
     },
     "execution_count": 43,
     "metadata": {},
     "output_type": "execute_result"
    }
   ],
   "source": [
    "suicides_df['Type'].unique()"
   ]
  },
  {
   "cell_type": "code",
   "execution_count": 44,
   "metadata": {},
   "outputs": [
    {
     "data": {
      "text/html": [
       "<div>\n",
       "<style scoped>\n",
       "    .dataframe tbody tr th:only-of-type {\n",
       "        vertical-align: middle;\n",
       "    }\n",
       "\n",
       "    .dataframe tbody tr th {\n",
       "        vertical-align: top;\n",
       "    }\n",
       "\n",
       "    .dataframe thead th {\n",
       "        text-align: right;\n",
       "    }\n",
       "</style>\n",
       "<table border=\"1\" class=\"dataframe\">\n",
       "  <thead>\n",
       "    <tr style=\"text-align: right;\">\n",
       "      <th></th>\n",
       "      <th>Type</th>\n",
       "      <th>Age_group</th>\n",
       "      <th>Total</th>\n",
       "    </tr>\n",
       "  </thead>\n",
       "  <tbody>\n",
       "    <tr>\n",
       "      <th>0</th>\n",
       "      <td>Bankruptcy or Sudden change in Economic</td>\n",
       "      <td>15-29</td>\n",
       "      <td>5796</td>\n",
       "    </tr>\n",
       "    <tr>\n",
       "      <th>1</th>\n",
       "      <td>Bankruptcy or Sudden change in Economic Status</td>\n",
       "      <td>15-29</td>\n",
       "      <td>469</td>\n",
       "    </tr>\n",
       "    <tr>\n",
       "      <th>2</th>\n",
       "      <td>By Consuming Insecticides</td>\n",
       "      <td>15-29</td>\n",
       "      <td>99949</td>\n",
       "    </tr>\n",
       "    <tr>\n",
       "      <th>3</th>\n",
       "      <td>By Consuming Other Poison</td>\n",
       "      <td>15-29</td>\n",
       "      <td>80860</td>\n",
       "    </tr>\n",
       "    <tr>\n",
       "      <th>4</th>\n",
       "      <td>By Drowning</td>\n",
       "      <td>15-29</td>\n",
       "      <td>32457</td>\n",
       "    </tr>\n",
       "    <tr>\n",
       "      <th>5</th>\n",
       "      <td>By Fire-Arms</td>\n",
       "      <td>15-29</td>\n",
       "      <td>2355</td>\n",
       "    </tr>\n",
       "    <tr>\n",
       "      <th>6</th>\n",
       "      <td>By Fire/Self Immolation</td>\n",
       "      <td>15-29</td>\n",
       "      <td>54902</td>\n",
       "    </tr>\n",
       "    <tr>\n",
       "      <th>7</th>\n",
       "      <td>By Hanging</td>\n",
       "      <td>15-29</td>\n",
       "      <td>169622</td>\n",
       "    </tr>\n",
       "    <tr>\n",
       "      <th>8</th>\n",
       "      <td>By Jumping from (Building)</td>\n",
       "      <td>15-29</td>\n",
       "      <td>2459</td>\n",
       "    </tr>\n",
       "    <tr>\n",
       "      <th>9</th>\n",
       "      <td>By Jumping from (Other sites)</td>\n",
       "      <td>15-29</td>\n",
       "      <td>2659</td>\n",
       "    </tr>\n",
       "    <tr>\n",
       "      <th>10</th>\n",
       "      <td>By Jumping off Moving Vehicles/Trains</td>\n",
       "      <td>15-29</td>\n",
       "      <td>2627</td>\n",
       "    </tr>\n",
       "    <tr>\n",
       "      <th>11</th>\n",
       "      <td>By Machine</td>\n",
       "      <td>15-29</td>\n",
       "      <td>594</td>\n",
       "    </tr>\n",
       "    <tr>\n",
       "      <th>12</th>\n",
       "      <td>By Other means</td>\n",
       "      <td>15-29</td>\n",
       "      <td>2654</td>\n",
       "    </tr>\n",
       "    <tr>\n",
       "      <th>13</th>\n",
       "      <td>By Other means (please specify)</td>\n",
       "      <td>15-29</td>\n",
       "      <td>38306</td>\n",
       "    </tr>\n",
       "    <tr>\n",
       "      <th>14</th>\n",
       "      <td>By Over Alcoholism</td>\n",
       "      <td>15-29</td>\n",
       "      <td>2992</td>\n",
       "    </tr>\n",
       "    <tr>\n",
       "      <th>15</th>\n",
       "      <td>By Overdose of sleeping pills</td>\n",
       "      <td>15-29</td>\n",
       "      <td>2848</td>\n",
       "    </tr>\n",
       "    <tr>\n",
       "      <th>16</th>\n",
       "      <td>By Self Infliction of injury</td>\n",
       "      <td>15-29</td>\n",
       "      <td>1763</td>\n",
       "    </tr>\n",
       "    <tr>\n",
       "      <th>17</th>\n",
       "      <td>By coming under running vehicles/trains</td>\n",
       "      <td>15-29</td>\n",
       "      <td>13864</td>\n",
       "    </tr>\n",
       "    <tr>\n",
       "      <th>18</th>\n",
       "      <td>By touching electric wires</td>\n",
       "      <td>15-29</td>\n",
       "      <td>3707</td>\n",
       "    </tr>\n",
       "    <tr>\n",
       "      <th>19</th>\n",
       "      <td>Cancellation/Non-Settlement of Marriage</td>\n",
       "      <td>15-29</td>\n",
       "      <td>7703</td>\n",
       "    </tr>\n",
       "    <tr>\n",
       "      <th>20</th>\n",
       "      <td>Cancer</td>\n",
       "      <td>15-29</td>\n",
       "      <td>922</td>\n",
       "    </tr>\n",
       "    <tr>\n",
       "      <th>21</th>\n",
       "      <td>Causes Not known</td>\n",
       "      <td>15-29</td>\n",
       "      <td>82515</td>\n",
       "    </tr>\n",
       "    <tr>\n",
       "      <th>22</th>\n",
       "      <td>Death of Dear Person</td>\n",
       "      <td>15-29</td>\n",
       "      <td>3420</td>\n",
       "    </tr>\n",
       "    <tr>\n",
       "      <th>23</th>\n",
       "      <td>Divorce</td>\n",
       "      <td>15-29</td>\n",
       "      <td>1552</td>\n",
       "    </tr>\n",
       "    <tr>\n",
       "      <th>24</th>\n",
       "      <td>Dowry Dispute</td>\n",
       "      <td>15-29</td>\n",
       "      <td>23020</td>\n",
       "    </tr>\n",
       "    <tr>\n",
       "      <th>25</th>\n",
       "      <td>Drug Abuse/Addiction</td>\n",
       "      <td>15-29</td>\n",
       "      <td>7378</td>\n",
       "    </tr>\n",
       "    <tr>\n",
       "      <th>26</th>\n",
       "      <td>Failure in Examination</td>\n",
       "      <td>15-29</td>\n",
       "      <td>21328</td>\n",
       "    </tr>\n",
       "    <tr>\n",
       "      <th>27</th>\n",
       "      <td>Fall in Social Reputation</td>\n",
       "      <td>15-29</td>\n",
       "      <td>4719</td>\n",
       "    </tr>\n",
       "    <tr>\n",
       "      <th>28</th>\n",
       "      <td>Family Problems</td>\n",
       "      <td>15-29</td>\n",
       "      <td>121427</td>\n",
       "    </tr>\n",
       "    <tr>\n",
       "      <th>29</th>\n",
       "      <td>Farming/Agriculture Activity</td>\n",
       "      <td>15-29</td>\n",
       "      <td>52700</td>\n",
       "    </tr>\n",
       "    <tr>\n",
       "      <th>30</th>\n",
       "      <td>House Wife</td>\n",
       "      <td>15-29</td>\n",
       "      <td>127415</td>\n",
       "    </tr>\n",
       "    <tr>\n",
       "      <th>31</th>\n",
       "      <td>Ideological Causes/Hero Worshipping</td>\n",
       "      <td>15-29</td>\n",
       "      <td>825</td>\n",
       "    </tr>\n",
       "    <tr>\n",
       "      <th>32</th>\n",
       "      <td>Illegitimate Pregnancy</td>\n",
       "      <td>15-29</td>\n",
       "      <td>1702</td>\n",
       "    </tr>\n",
       "    <tr>\n",
       "      <th>33</th>\n",
       "      <td>Illness (Aids/STD)</td>\n",
       "      <td>15-29</td>\n",
       "      <td>2414</td>\n",
       "    </tr>\n",
       "    <tr>\n",
       "      <th>34</th>\n",
       "      <td>Insanity/Mental Illness</td>\n",
       "      <td>15-29</td>\n",
       "      <td>27259</td>\n",
       "    </tr>\n",
       "    <tr>\n",
       "      <th>35</th>\n",
       "      <td>Love Affairs</td>\n",
       "      <td>15-29</td>\n",
       "      <td>33023</td>\n",
       "    </tr>\n",
       "    <tr>\n",
       "      <th>36</th>\n",
       "      <td>Not having Children (Barrenness/Impotency</td>\n",
       "      <td>15-29</td>\n",
       "      <td>297</td>\n",
       "    </tr>\n",
       "    <tr>\n",
       "      <th>37</th>\n",
       "      <td>Not having Children(Barrenness/Impotency</td>\n",
       "      <td>15-29</td>\n",
       "      <td>2800</td>\n",
       "    </tr>\n",
       "    <tr>\n",
       "      <th>38</th>\n",
       "      <td>Other Causes (Please Specity)</td>\n",
       "      <td>15-29</td>\n",
       "      <td>71968</td>\n",
       "    </tr>\n",
       "    <tr>\n",
       "      <th>39</th>\n",
       "      <td>Other Prolonged Illness</td>\n",
       "      <td>15-29</td>\n",
       "      <td>50206</td>\n",
       "    </tr>\n",
       "    <tr>\n",
       "      <th>40</th>\n",
       "      <td>Others (Please Specify)</td>\n",
       "      <td>15-29</td>\n",
       "      <td>140873</td>\n",
       "    </tr>\n",
       "    <tr>\n",
       "      <th>41</th>\n",
       "      <td>Paralysis</td>\n",
       "      <td>15-29</td>\n",
       "      <td>1051</td>\n",
       "    </tr>\n",
       "    <tr>\n",
       "      <th>42</th>\n",
       "      <td>Physical Abuse (Rape/Incest Etc.)</td>\n",
       "      <td>15-29</td>\n",
       "      <td>2065</td>\n",
       "    </tr>\n",
       "    <tr>\n",
       "      <th>43</th>\n",
       "      <td>Poverty</td>\n",
       "      <td>15-29</td>\n",
       "      <td>8127</td>\n",
       "    </tr>\n",
       "    <tr>\n",
       "      <th>44</th>\n",
       "      <td>Professional Activity</td>\n",
       "      <td>15-29</td>\n",
       "      <td>11074</td>\n",
       "    </tr>\n",
       "    <tr>\n",
       "      <th>45</th>\n",
       "      <td>Professional/Career Problem</td>\n",
       "      <td>15-29</td>\n",
       "      <td>3478</td>\n",
       "    </tr>\n",
       "    <tr>\n",
       "      <th>46</th>\n",
       "      <td>Property Dispute</td>\n",
       "      <td>15-29</td>\n",
       "      <td>4333</td>\n",
       "    </tr>\n",
       "    <tr>\n",
       "      <th>47</th>\n",
       "      <td>Public Sector Undertaking</td>\n",
       "      <td>15-29</td>\n",
       "      <td>9465</td>\n",
       "    </tr>\n",
       "    <tr>\n",
       "      <th>48</th>\n",
       "      <td>Retired Person</td>\n",
       "      <td>15-29</td>\n",
       "      <td>285</td>\n",
       "    </tr>\n",
       "    <tr>\n",
       "      <th>49</th>\n",
       "      <td>Self-employed (Business activity)</td>\n",
       "      <td>15-29</td>\n",
       "      <td>20291</td>\n",
       "    </tr>\n",
       "    <tr>\n",
       "      <th>50</th>\n",
       "      <td>Service (Government)</td>\n",
       "      <td>15-29</td>\n",
       "      <td>5911</td>\n",
       "    </tr>\n",
       "    <tr>\n",
       "      <th>51</th>\n",
       "      <td>Service (Private)</td>\n",
       "      <td>15-29</td>\n",
       "      <td>39168</td>\n",
       "    </tr>\n",
       "    <tr>\n",
       "      <th>52</th>\n",
       "      <td>Student</td>\n",
       "      <td>15-29</td>\n",
       "      <td>56219</td>\n",
       "    </tr>\n",
       "    <tr>\n",
       "      <th>53</th>\n",
       "      <td>Suspected/Illicit Relation</td>\n",
       "      <td>15-29</td>\n",
       "      <td>7565</td>\n",
       "    </tr>\n",
       "    <tr>\n",
       "      <th>54</th>\n",
       "      <td>Unemployed</td>\n",
       "      <td>15-29</td>\n",
       "      <td>46242</td>\n",
       "    </tr>\n",
       "    <tr>\n",
       "      <th>55</th>\n",
       "      <td>Unemployment</td>\n",
       "      <td>15-29</td>\n",
       "      <td>12414</td>\n",
       "    </tr>\n",
       "  </tbody>\n",
       "</table>\n",
       "</div>"
      ],
      "text/plain": [
       "                                              Type Age_group   Total\n",
       "0          Bankruptcy or Sudden change in Economic     15-29    5796\n",
       "1   Bankruptcy or Sudden change in Economic Status     15-29     469\n",
       "2                        By Consuming Insecticides     15-29   99949\n",
       "3                        By Consuming Other Poison     15-29   80860\n",
       "4                                      By Drowning     15-29   32457\n",
       "5                                     By Fire-Arms     15-29    2355\n",
       "6                          By Fire/Self Immolation     15-29   54902\n",
       "7                                       By Hanging     15-29  169622\n",
       "8                       By Jumping from (Building)     15-29    2459\n",
       "9                    By Jumping from (Other sites)     15-29    2659\n",
       "10           By Jumping off Moving Vehicles/Trains     15-29    2627\n",
       "11                                      By Machine     15-29     594\n",
       "12                                  By Other means     15-29    2654\n",
       "13                 By Other means (please specify)     15-29   38306\n",
       "14                              By Over Alcoholism     15-29    2992\n",
       "15                   By Overdose of sleeping pills     15-29    2848\n",
       "16                    By Self Infliction of injury     15-29    1763\n",
       "17         By coming under running vehicles/trains     15-29   13864\n",
       "18                      By touching electric wires     15-29    3707\n",
       "19         Cancellation/Non-Settlement of Marriage     15-29    7703\n",
       "20                                          Cancer     15-29     922\n",
       "21                                Causes Not known     15-29   82515\n",
       "22                            Death of Dear Person     15-29    3420\n",
       "23                                         Divorce     15-29    1552\n",
       "24                                   Dowry Dispute     15-29   23020\n",
       "25                            Drug Abuse/Addiction     15-29    7378\n",
       "26                          Failure in Examination     15-29   21328\n",
       "27                       Fall in Social Reputation     15-29    4719\n",
       "28                                 Family Problems     15-29  121427\n",
       "29                    Farming/Agriculture Activity     15-29   52700\n",
       "30                                      House Wife     15-29  127415\n",
       "31             Ideological Causes/Hero Worshipping     15-29     825\n",
       "32                          Illegitimate Pregnancy     15-29    1702\n",
       "33                              Illness (Aids/STD)     15-29    2414\n",
       "34                         Insanity/Mental Illness     15-29   27259\n",
       "35                                    Love Affairs     15-29   33023\n",
       "36       Not having Children (Barrenness/Impotency     15-29     297\n",
       "37        Not having Children(Barrenness/Impotency     15-29    2800\n",
       "38                   Other Causes (Please Specity)     15-29   71968\n",
       "39                         Other Prolonged Illness     15-29   50206\n",
       "40                         Others (Please Specify)     15-29  140873\n",
       "41                                       Paralysis     15-29    1051\n",
       "42               Physical Abuse (Rape/Incest Etc.)     15-29    2065\n",
       "43                                         Poverty     15-29    8127\n",
       "44                           Professional Activity     15-29   11074\n",
       "45                     Professional/Career Problem     15-29    3478\n",
       "46                                Property Dispute     15-29    4333\n",
       "47                       Public Sector Undertaking     15-29    9465\n",
       "48                                  Retired Person     15-29     285\n",
       "49               Self-employed (Business activity)     15-29   20291\n",
       "50                            Service (Government)     15-29    5911\n",
       "51                               Service (Private)     15-29   39168\n",
       "52                                         Student     15-29   56219\n",
       "53                      Suspected/Illicit Relation     15-29    7565\n",
       "54                                      Unemployed     15-29   46242\n",
       "55                                    Unemployment     15-29   12414"
      ]
     },
     "execution_count": 44,
     "metadata": {},
     "output_type": "execute_result"
    }
   ],
   "source": [
    "education_suicide_youth"
   ]
  },
  {
   "cell_type": "markdown",
   "metadata": {},
   "source": [
    "Main Reason For <b font:blod> Youth suicides in INDIA in the YEAR 2001-2012</b>\n",
    "> - causes--Total suicides\n",
    "> - Family Problems--121427\n",
    "> - Failure in Examination--21328\n",
    "> - Love Affairs --33023\n",
    "> - Student--56219\n",
    "> - Unemployed--46242\n",
    "> - Unemployment--12414\n",
    "> - Insanity/Mental Illness--27259\n",
    "> - Farming/Agriculture Activity--52700\n",
    "> - Drug Abuse/Addiction--7378"
   ]
  },
  {
   "cell_type": "code",
   "execution_count": 45,
   "metadata": {},
   "outputs": [],
   "source": [
    "import jovian"
   ]
  },
  {
   "cell_type": "code",
   "execution_count": 46,
   "metadata": {},
   "outputs": [
    {
     "data": {
      "application/javascript": [
       "window.require && require([\"base/js/namespace\"],function(Jupyter){Jupyter.notebook.save_checkpoint()})"
      ],
      "text/plain": [
       "<IPython.core.display.Javascript object>"
      ]
     },
     "metadata": {},
     "output_type": "display_data"
    },
    {
     "name": "stdout",
     "output_type": "stream",
     "text": [
      "[jovian] Updating notebook \"mallayya840/mallayya-mathapati-dataanalysis-project-visual-analysis-of-suicides-in-india\" on https://jovian.ai/\n",
      "[jovian] Committed successfully! https://jovian.ai/mallayya840/mallayya-mathapati-dataanalysis-project-visual-analysis-of-suicides-in-india\n"
     ]
    },
    {
     "data": {
      "text/plain": [
       "'https://jovian.ai/mallayya840/mallayya-mathapati-dataanalysis-project-visual-analysis-of-suicides-in-india'"
      ]
     },
     "execution_count": 46,
     "metadata": {},
     "output_type": "execute_result"
    }
   ],
   "source": [
    "jovian.commit()"
   ]
  },
  {
   "cell_type": "markdown",
   "metadata": {},
   "source": [
    "## Inferences and Conclusion\n",
    "\n",
    "* Highest number of suicide cases occured in Maharashtra, West Bengal,Tamil Nadu,Andhra Pradesh,Karnataka.\n",
    "* lowest number of suicide cases occured in Lakshadweep,Daman & Diu,Nagaland,Manipur,D & N Haveli.\n",
    "* <b font : bold> 2011 have highest suicides occured</b> and <b font : bold> 2001 have lowest suicides occured</b> in the year 2001-2012 ,in india suicide rate positively incresing.\n",
    "*  Married Male suicide due Family background ,workpressure,Extenal Affairs..etc For Married Female also applicable...\n",
    "* Males commit more suicides compared to Females in India\n",
    "* Male might commit more suicide compared to females in the future if this trend continues.\n",
    "* People who commit suicide are mostly-\n",
    "> * Married\n",
    "> * Farmers and housewives\n",
    "* Youngsters 15-29 age \n",
    "> * Main Reason For <b font:blod> Youth suicides in INDIA in the YEAR 2001-2012</b> are<b font:blod> Family Problems,Failure in Examination,Love Affairs,Unemployed,Farming/Agriculture Activity </b>\n",
    "* Adult age 30-44\n",
    "> * Main Reason For <b font:blod> Adult suicides in INDIA in the YEAR 2001-2012</b> are <b font:blod>Familybackground,Unemployed,workpressure,Extenal Affairs </b>\n"
   ]
  },
  {
   "cell_type": "code",
   "execution_count": 57,
   "metadata": {},
   "outputs": [],
   "source": [
    "import jovian"
   ]
  },
  {
   "cell_type": "code",
   "execution_count": 65,
   "metadata": {},
   "outputs": [
    {
     "data": {
      "application/javascript": [
       "window.require && require([\"base/js/namespace\"],function(Jupyter){Jupyter.notebook.save_checkpoint()})"
      ],
      "text/plain": [
       "<IPython.core.display.Javascript object>"
      ]
     },
     "metadata": {},
     "output_type": "display_data"
    },
    {
     "name": "stdout",
     "output_type": "stream",
     "text": [
      "[jovian] Updating notebook \"mallayya840/mallayya-mathapati-dataanalysis-project-visual-analysis-of-suicides-in-india\" on https://jovian.ai/\n",
      "[jovian] Committed successfully! https://jovian.ai/mallayya840/mallayya-mathapati-dataanalysis-project-visual-analysis-of-suicides-in-india\n"
     ]
    },
    {
     "data": {
      "text/plain": [
       "'https://jovian.ai/mallayya840/mallayya-mathapati-dataanalysis-project-visual-analysis-of-suicides-in-india'"
      ]
     },
     "execution_count": 65,
     "metadata": {},
     "output_type": "execute_result"
    }
   ],
   "source": [
    "jovian.commit()"
   ]
  },
  {
   "cell_type": "markdown",
   "metadata": {},
   "source": [
    "## References and Future Work\n",
    "> - My Future work To be continued in this domain..\n",
    "> - Medical Dataset Analysis\n",
    "> - Bussiness Mangement  DatasetAnalysis"
   ]
  },
  {
   "cell_type": "code",
   "execution_count": 66,
   "metadata": {},
   "outputs": [],
   "source": [
    "import jovian"
   ]
  },
  {
   "cell_type": "code",
   "execution_count": null,
   "metadata": {
    "scrolled": true
   },
   "outputs": [
    {
     "data": {
      "application/javascript": [
       "window.require && require([\"base/js/namespace\"],function(Jupyter){Jupyter.notebook.save_checkpoint()})"
      ],
      "text/plain": [
       "<IPython.core.display.Javascript object>"
      ]
     },
     "metadata": {},
     "output_type": "display_data"
    }
   ],
   "source": [
    "jovian.commit()"
   ]
  },
  {
   "cell_type": "code",
   "execution_count": null,
   "metadata": {},
   "outputs": [],
   "source": []
  }
 ],
 "metadata": {
  "language_info": {
   "codemirror_mode": {
    "name": "ipython",
    "version": 3
   },
   "file_extension": ".py",
   "mimetype": "text/x-python",
   "name": "python",
   "nbconvert_exporter": "python",
   "pygments_lexer": "ipython3",
   "version": "3.9.1"
  }
 },
 "nbformat": 4,
 "nbformat_minor": 4
}